{
  "cells": [
    {
      "cell_type": "markdown",
      "metadata": {
        "id": "view-in-github",
        "colab_type": "text"
      },
      "source": [
        "<a href=\"https://colab.research.google.com/github/Khozinkosi/Sec2sec-model/blob/main/Assignment3Comp703.ipynb\" target=\"_parent\"><img src=\"https://colab.research.google.com/assets/colab-badge.svg\" alt=\"Open In Colab\"/></a>"
      ]
    },
    {
      "cell_type": "markdown",
      "id": "92f6671c",
      "metadata": {
        "id": "92f6671c"
      },
      "source": [
        "\n",
        "\n",
        "*   Wandile Ngobese (222056013)\n",
        "*   Linda Sekhoasha (222004139)\n",
        "*   Khonzinkosi Mkhize (219005273)\n",
        "*   Samukelo Mkhize (220009930)\n"
      ]
    },
    {
      "cell_type": "code",
      "source": [
        "!pip install nltk"
      ],
      "metadata": {
        "id": "Le2hacb2cW3z",
        "outputId": "6e6fe539-3246-4ba5-9cf5-ee6af249ac2e",
        "colab": {
          "base_uri": "https://localhost:8080/"
        }
      },
      "id": "Le2hacb2cW3z",
      "execution_count": 2,
      "outputs": [
        {
          "output_type": "stream",
          "name": "stdout",
          "text": [
            "Requirement already satisfied: nltk in /usr/local/lib/python3.11/dist-packages (3.9.1)\n",
            "Requirement already satisfied: click in /usr/local/lib/python3.11/dist-packages (from nltk) (8.2.1)\n",
            "Requirement already satisfied: joblib in /usr/local/lib/python3.11/dist-packages (from nltk) (1.5.1)\n",
            "Requirement already satisfied: regex>=2021.8.3 in /usr/local/lib/python3.11/dist-packages (from nltk) (2024.11.6)\n",
            "Requirement already satisfied: tqdm in /usr/local/lib/python3.11/dist-packages (from nltk) (4.67.1)\n"
          ]
        }
      ]
    },
    {
      "cell_type": "code",
      "source": [
        "!pip install tqdm"
      ],
      "metadata": {
        "id": "NPI_NIpEcmGj",
        "outputId": "f0ad8391-6c91-4fb8-b099-5e7096a7d0be",
        "colab": {
          "base_uri": "https://localhost:8080/"
        }
      },
      "id": "NPI_NIpEcmGj",
      "execution_count": 4,
      "outputs": [
        {
          "output_type": "stream",
          "name": "stdout",
          "text": [
            "Requirement already satisfied: tqdm in /usr/local/lib/python3.11/dist-packages (4.67.1)\n"
          ]
        }
      ]
    },
    {
      "cell_type": "code",
      "source": [
        "import numpy as np\n",
        "import tensorflow as tf\n",
        "from tensorflow.keras.models import Model\n",
        "from tensorflow.keras.layers import Input, LSTM, GRU, Dense, Bidirectional\n",
        "import matplotlib.pyplot as plt\n",
        "import os\n",
        "import zipfile\n",
        "import urllib.request\n",
        "import re\n",
        "import nltk\n",
        "from nltk.translate.bleu_score import sentence_bleu\n",
        "nltk.download('punkt')  # Required for tokenization\n",
        "from tqdm import tqdm\n"
      ],
      "metadata": {
        "id": "VMdWjQ8saYX1",
        "outputId": "8c27836f-784d-4cdf-935f-1e59dd2fa826",
        "colab": {
          "base_uri": "https://localhost:8080/"
        }
      },
      "id": "VMdWjQ8saYX1",
      "execution_count": 2,
      "outputs": [
        {
          "output_type": "stream",
          "name": "stderr",
          "text": [
            "[nltk_data] Downloading package punkt to /root/nltk_data...\n",
            "[nltk_data]   Unzipping tokenizers/punkt.zip.\n"
          ]
        }
      ]
    },
    {
      "cell_type": "markdown",
      "source": [
        "**Load and Process dataset**"
      ],
      "metadata": {
        "id": "Qx5J00QreFaH"
      },
      "id": "Qx5J00QreFaH"
    },
    {
      "cell_type": "code",
      "source": [
        "from google.colab import drive\n",
        "drive.mount('/content/drive')"
      ],
      "metadata": {
        "id": "I5bb147UePig",
        "outputId": "80b611bb-fdef-4782-b957-b5fb35d13b25",
        "colab": {
          "base_uri": "https://localhost:8080/"
        }
      },
      "id": "I5bb147UePig",
      "execution_count": 3,
      "outputs": [
        {
          "output_type": "stream",
          "name": "stdout",
          "text": [
            "Mounted at /content/drive\n"
          ]
        }
      ]
    },
    {
      "cell_type": "code",
      "source": [
        "dataset_path = '/content/drive/My Drive/fra-eng/fra.txt'"
      ],
      "metadata": {
        "id": "HgCocTUMe7Ii"
      },
      "id": "HgCocTUMe7Ii",
      "execution_count": 4,
      "outputs": []
    },
    {
      "cell_type": "code",
      "source": [
        "with open(dataset_path, 'r', encoding='utf-8') as file:\n",
        "    lines = file.read().strip().split('\\n')"
      ],
      "metadata": {
        "id": "-4PCDAosfhu8"
      },
      "id": "-4PCDAosfhu8",
      "execution_count": 5,
      "outputs": []
    },
    {
      "cell_type": "code",
      "source": [
        "input_texts = []\n",
        "target_texts = []\n",
        "\n",
        "for line in lines:\n",
        "    parts = line.strip().split('\\t')\n",
        "    eng, fra = parts[0], parts[1]\n",
        "    input_texts.append(eng)\n",
        "    target_texts.append('\\t' + fra + '\\n')  # Add start '\\t' and end '\\n' tokens"
      ],
      "metadata": {
        "id": "dlkIk7lWf_V9"
      },
      "id": "dlkIk7lWf_V9",
      "execution_count": 6,
      "outputs": []
    },
    {
      "cell_type": "code",
      "source": [
        "for i in range(-5, 0):\n",
        "    print(f\"{i+len(input_texts)}: {input_texts[i]}\")\n"
      ],
      "metadata": {
        "id": "7rzkpfh0p2kc",
        "outputId": "b52ee6c7-8ae8-4eba-f32e-e8e93dfad9a4",
        "colab": {
          "base_uri": "https://localhost:8080/"
        }
      },
      "id": "7rzkpfh0p2kc",
      "execution_count": 7,
      "outputs": [
        {
          "output_type": "stream",
          "name": "stdout",
          "text": [
            "237833: Death is something that we're often discouraged to talk about or even think about, but I've realized that preparing for death is one of the most empowering things you can do. Thinking about death clarifies your life.\n",
            "237834: Since there are usually multiple websites on any given topic, I usually just click the back button when I arrive on any webpage that has pop-up advertising. I just go to the next page found by Google and hope for something less irritating.\n",
            "237835: If someone who doesn't know your background says that you sound like a native speaker, it means they probably noticed something about your speaking that made them realize you weren't a native speaker. In other words, you don't really sound like a native speaker.\n",
            "237836: It may be impossible to get a completely error-free corpus due to the nature of this kind of collaborative effort. However, if we encourage members to contribute sentences in their own languages rather than experiment in languages they are learning, we might be able to minimize errors.\n",
            "237837: \"I went drinking with one of my boyfriend's friends, and now he's furious at me.\" \"Was this friend a guy or a girl?\" \"A guy, obviously. Why would I go drinking with his female friends?\" \"Yeah, you're right.\" \"His name is Tom. He's really hot, and I really want to go drinking with him again.\"\n"
          ]
        }
      ]
    },
    {
      "cell_type": "code",
      "source": [
        "for i in range(5):\n",
        "    print(f\"English: {input_texts[i]}\")\n",
        "    print(f\"French : {target_texts[i]}\")\n",
        "    print('---')"
      ],
      "metadata": {
        "id": "NehdlJ-2hIGQ",
        "outputId": "26561bc7-78d9-4c5f-eb23-149b3307ea85",
        "colab": {
          "base_uri": "https://localhost:8080/"
        }
      },
      "id": "NehdlJ-2hIGQ",
      "execution_count": 8,
      "outputs": [
        {
          "output_type": "stream",
          "name": "stdout",
          "text": [
            "English: Go.\n",
            "French : \tVa !\n",
            "\n",
            "---\n",
            "English: Go.\n",
            "French : \tMarche.\n",
            "\n",
            "---\n",
            "English: Go.\n",
            "French : \tEn route !\n",
            "\n",
            "---\n",
            "English: Go.\n",
            "French : \tBouge !\n",
            "\n",
            "---\n",
            "English: Hi.\n",
            "French : \tSalut !\n",
            "\n",
            "---\n"
          ]
        }
      ]
    },
    {
      "cell_type": "code",
      "source": [
        "input_characters = sorted(set(char for text in input_texts for char in text))\n",
        "target_characters = sorted(set(char for text in target_texts for char in text))\n",
        "\n",
        "num_encoder_tokens = len(input_characters)\n",
        "num_decoder_tokens = len(target_characters)\n",
        "\n",
        "max_encoder_seq_length = max(len(text) for text in input_texts)\n",
        "max_decoder_seq_length = max(len(text) for text in target_texts)\n"
      ],
      "metadata": {
        "id": "qFds7ttPkv4A"
      },
      "id": "qFds7ttPkv4A",
      "execution_count": 9,
      "outputs": []
    },
    {
      "cell_type": "markdown",
      "source": [
        "**Then create mappings:**"
      ],
      "metadata": {
        "id": "OOMYXDn_lDFS"
      },
      "id": "OOMYXDn_lDFS"
    },
    {
      "cell_type": "code",
      "source": [
        "input_token_index = {char: i for i, char in enumerate(input_characters)}\n",
        "target_token_index = {char: i for i, char in enumerate(target_characters)}\n",
        "\n",
        "reverse_input_char_index = {i: char for char, i in input_token_index.items()}\n",
        "reverse_target_char_index = {i: char for char, i in target_token_index.items()}\n"
      ],
      "metadata": {
        "id": "rjUEiXYrlGaQ"
      },
      "id": "rjUEiXYrlGaQ",
      "execution_count": 10,
      "outputs": []
    },
    {
      "cell_type": "markdown",
      "source": [
        "** Create integer-encoded sequences**"
      ],
      "metadata": {
        "id": "Kws2Sk4YzwCN"
      },
      "id": "Kws2Sk4YzwCN"
    },
    {
      "cell_type": "code",
      "source": [
        "input_token_index = {char: i + 1 for i, char in enumerate(input_characters)}  # reserve 0 for padding\n",
        "target_token_index = {char: i + 1 for i, char in enumerate(target_characters)}\n",
        "\n",
        "encoder_input_seq = []\n",
        "decoder_input_seq = []\n",
        "decoder_target_seq = []\n",
        "\n",
        "for i in range(len(input_texts)):\n",
        "    input_seq = [input_token_index[char] for char in input_texts[i]]\n",
        "    target_seq = [target_token_index[char] for char in target_texts[i]]\n",
        "\n",
        "    decoder_input = target_seq[:-1]\n",
        "    decoder_target = target_seq[1:]\n",
        "\n",
        "    encoder_input_seq.append(input_seq)\n",
        "    decoder_input_seq.append(decoder_input)\n",
        "    decoder_target_seq.append(decoder_target)\n"
      ],
      "metadata": {
        "id": "va0sFnCmz1ZF"
      },
      "id": "va0sFnCmz1ZF",
      "execution_count": 11,
      "outputs": []
    },
    {
      "cell_type": "markdown",
      "source": [
        "**Create one-hot encoded 3D arrays for encoder input, decoder input, and decoder target:**"
      ],
      "metadata": {
        "id": "JXCZthb-lQhJ"
      },
      "id": "JXCZthb-lQhJ"
    },
    {
      "cell_type": "code",
      "source": [
        "'''import numpy as np\n",
        "\n",
        "encoder_input_data = np.zeros(\n",
        "    (len(input_texts), max_encoder_seq_length, num_encoder_tokens), dtype=\"float32\"\n",
        ")\n",
        "decoder_input_data = np.zeros(\n",
        "    (len(target_texts), max_decoder_seq_length, num_decoder_tokens), dtype=\"float32\"\n",
        ")\n",
        "decoder_target_data = np.zeros(\n",
        "    (len(target_texts), max_decoder_seq_length, num_decoder_tokens), dtype=\"float32\"\n",
        ")\n",
        "\n",
        "for i, (input_text, target_text) in enumerate(zip(input_texts, target_texts)):\n",
        "    for t, char in enumerate(input_text):\n",
        "        #encoder_input_data[i, t, input_token_index[char]] = 1.0\n",
        "        num_encoder_tokens = len(input_token_index)  # Should be correct\n",
        "\n",
        "    for t, char in enumerate(target_text):\n",
        "        target_token_index = {char: i + 1 for i, char in enumerate(target_characters)}\n",
        "        num_decoder_tokens = len(target_token_index) + 1  # +1 is CRUCIAL!\n",
        "\n",
        "\n",
        "\n",
        "        if t > 0:\n",
        "            # decoder target data is ahead by one timestep\n",
        "            target_token_index = {char: i + 1 for i, char in enumerate(target_characters)}  # Start from 1'''\n",
        "\n",
        "\n",
        "import numpy as np\n",
        "from tensorflow.keras.preprocessing.sequence import pad_sequences\n",
        "from tensorflow.keras.models import Model\n",
        "from tensorflow.keras.layers import Input, LSTM, Embedding, Dense\n",
        "\n",
        "# -----------------------------\n",
        "# Step 1: Build token dictionaries\n",
        "# -----------------------------\n",
        "input_token_index = {char: i + 1 for i, char in enumerate(input_characters)}  # start from 1\n",
        "target_token_index = {char: i + 1 for i, char in enumerate(target_characters)}  # start from 1\n",
        "\n",
        "num_encoder_tokens = len(input_token_index) + 1  # +1 for padding (index 0)\n",
        "num_decoder_tokens = len(target_token_index) + 1\n",
        "\n",
        "# -----------------------------\n",
        "# Step 2: Convert characters to integer sequences\n",
        "# -----------------------------\n",
        "encoder_input_sequences = []\n",
        "decoder_input_sequences = []\n",
        "decoder_target_sequences = []\n",
        "\n",
        "for i in range(len(input_texts)):\n",
        "    input_seq = [input_token_index[char] for char in input_texts[i]]\n",
        "    target_seq = [target_token_index[char] for char in target_texts[i]]\n",
        "\n",
        "    encoder_input_sequences.append(input_seq)\n",
        "    decoder_input_sequences.append(target_seq[:-1])  # decoder input excludes last char\n",
        "    decoder_target_sequences.append(target_seq[1:])  # decoder target excludes first char\n",
        "\n",
        "# -----------------------------\n",
        "# Step 3: Pad sequences\n",
        "# -----------------------------\n",
        "encoder_input_data = pad_sequences(encoder_input_sequences, maxlen=max_encoder_seq_length, padding='post')\n",
        "decoder_input_data = pad_sequences(decoder_input_sequences, maxlen=max_decoder_seq_length, padding='post')\n",
        "decoder_target_data = pad_sequences(decoder_target_sequences, maxlen=max_decoder_seq_length, padding='post')\n",
        "\n",
        "# -----------------------------\n",
        "# Step 4: Reshape decoder target for training\n",
        "# -----------------------------\n",
        "decoder_target_data = np.expand_dims(decoder_target_data, -1)\n",
        "\n",
        "# -----------------------------\n",
        "# Step 5: Define the model with Embeddings\n",
        "# -----------------------------\n",
        "latent_dim = 128  # Feel free to adjust based on your system\n",
        "\n",
        "# Encoder\n",
        "encoder_inputs = Input(shape=(None,))\n",
        "encoder_embedding = Embedding(input_dim=num_encoder_tokens, output_dim=64)(encoder_inputs)\n",
        "encoder_lstm, state_h, state_c = LSTM(latent_dim, return_state=True)(encoder_embedding)\n",
        "encoder_states = [state_h, state_c]\n",
        "\n",
        "# Decoder\n",
        "decoder_inputs = Input(shape=(None,))\n",
        "decoder_embedding = Embedding(input_dim=num_decoder_tokens, output_dim=64)(decoder_inputs)\n",
        "decoder_lstm, _, _ = LSTM(latent_dim, return_sequences=True, return_state=True)(decoder_embedding, initial_state=encoder_states)\n",
        "decoder_dense = Dense(num_decoder_tokens, activation='softmax')\n",
        "decoder_outputs = decoder_dense(decoder_lstm)\n",
        "\n",
        "# Combined Model\n",
        "model = Model([encoder_inputs, decoder_inputs], decoder_outputs)\n",
        "model.compile(optimizer='rmsprop', loss='sparse_categorical_crossentropy', metrics=['accuracy'])\n",
        "\n",
        "model.summary()\n",
        "\n"
      ],
      "metadata": {
        "id": "o3-xXyIRlWhJ",
        "outputId": "f930d8d9-c132-42e1-b101-081fc13079ec",
        "colab": {
          "base_uri": "https://localhost:8080/",
          "height": 527
        }
      },
      "id": "o3-xXyIRlWhJ",
      "execution_count": 12,
      "outputs": [
        {
          "output_type": "display_data",
          "data": {
            "text/plain": [
              "\u001b[1mModel: \"functional\"\u001b[0m\n"
            ],
            "text/html": [
              "<pre style=\"white-space:pre;overflow-x:auto;line-height:normal;font-family:Menlo,'DejaVu Sans Mono',consolas,'Courier New',monospace\"><span style=\"font-weight: bold\">Model: \"functional\"</span>\n",
              "</pre>\n"
            ]
          },
          "metadata": {}
        },
        {
          "output_type": "display_data",
          "data": {
            "text/plain": [
              "┏━━━━━━━━━━━━━━━━━━━━━┳━━━━━━━━━━━━━━━━━━━┳━━━━━━━━━━━━┳━━━━━━━━━━━━━━━━━━━┓\n",
              "┃\u001b[1m \u001b[0m\u001b[1mLayer (type)       \u001b[0m\u001b[1m \u001b[0m┃\u001b[1m \u001b[0m\u001b[1mOutput Shape     \u001b[0m\u001b[1m \u001b[0m┃\u001b[1m \u001b[0m\u001b[1m   Param #\u001b[0m\u001b[1m \u001b[0m┃\u001b[1m \u001b[0m\u001b[1mConnected to     \u001b[0m\u001b[1m \u001b[0m┃\n",
              "┡━━━━━━━━━━━━━━━━━━━━━╇━━━━━━━━━━━━━━━━━━━╇━━━━━━━━━━━━╇━━━━━━━━━━━━━━━━━━━┩\n",
              "│ input_layer         │ (\u001b[38;5;45mNone\u001b[0m, \u001b[38;5;45mNone\u001b[0m)      │          \u001b[38;5;34m0\u001b[0m │ -                 │\n",
              "│ (\u001b[38;5;33mInputLayer\u001b[0m)        │                   │            │                   │\n",
              "├─────────────────────┼───────────────────┼────────────┼───────────────────┤\n",
              "│ input_layer_1       │ (\u001b[38;5;45mNone\u001b[0m, \u001b[38;5;45mNone\u001b[0m)      │          \u001b[38;5;34m0\u001b[0m │ -                 │\n",
              "│ (\u001b[38;5;33mInputLayer\u001b[0m)        │                   │            │                   │\n",
              "├─────────────────────┼───────────────────┼────────────┼───────────────────┤\n",
              "│ embedding           │ (\u001b[38;5;45mNone\u001b[0m, \u001b[38;5;45mNone\u001b[0m, \u001b[38;5;34m64\u001b[0m)  │      \u001b[38;5;34m5,824\u001b[0m │ input_layer[\u001b[38;5;34m0\u001b[0m][\u001b[38;5;34m0\u001b[0m] │\n",
              "│ (\u001b[38;5;33mEmbedding\u001b[0m)         │                   │            │                   │\n",
              "├─────────────────────┼───────────────────┼────────────┼───────────────────┤\n",
              "│ embedding_1         │ (\u001b[38;5;45mNone\u001b[0m, \u001b[38;5;45mNone\u001b[0m, \u001b[38;5;34m64\u001b[0m)  │      \u001b[38;5;34m7,424\u001b[0m │ input_layer_1[\u001b[38;5;34m0\u001b[0m]… │\n",
              "│ (\u001b[38;5;33mEmbedding\u001b[0m)         │                   │            │                   │\n",
              "├─────────────────────┼───────────────────┼────────────┼───────────────────┤\n",
              "│ lstm (\u001b[38;5;33mLSTM\u001b[0m)         │ [(\u001b[38;5;45mNone\u001b[0m, \u001b[38;5;34m128\u001b[0m),     │     \u001b[38;5;34m98,816\u001b[0m │ embedding[\u001b[38;5;34m0\u001b[0m][\u001b[38;5;34m0\u001b[0m]   │\n",
              "│                     │ (\u001b[38;5;45mNone\u001b[0m, \u001b[38;5;34m128\u001b[0m),      │            │                   │\n",
              "│                     │ (\u001b[38;5;45mNone\u001b[0m, \u001b[38;5;34m128\u001b[0m)]      │            │                   │\n",
              "├─────────────────────┼───────────────────┼────────────┼───────────────────┤\n",
              "│ lstm_1 (\u001b[38;5;33mLSTM\u001b[0m)       │ [(\u001b[38;5;45mNone\u001b[0m, \u001b[38;5;45mNone\u001b[0m,     │     \u001b[38;5;34m98,816\u001b[0m │ embedding_1[\u001b[38;5;34m0\u001b[0m][\u001b[38;5;34m0\u001b[0m… │\n",
              "│                     │ \u001b[38;5;34m128\u001b[0m), (\u001b[38;5;45mNone\u001b[0m,      │            │ lstm[\u001b[38;5;34m0\u001b[0m][\u001b[38;5;34m1\u001b[0m],       │\n",
              "│                     │ \u001b[38;5;34m128\u001b[0m), (\u001b[38;5;45mNone\u001b[0m,      │            │ lstm[\u001b[38;5;34m0\u001b[0m][\u001b[38;5;34m2\u001b[0m]        │\n",
              "│                     │ \u001b[38;5;34m128\u001b[0m)]             │            │                   │\n",
              "├─────────────────────┼───────────────────┼────────────┼───────────────────┤\n",
              "│ dense (\u001b[38;5;33mDense\u001b[0m)       │ (\u001b[38;5;45mNone\u001b[0m, \u001b[38;5;45mNone\u001b[0m, \u001b[38;5;34m116\u001b[0m) │     \u001b[38;5;34m14,964\u001b[0m │ lstm_1[\u001b[38;5;34m0\u001b[0m][\u001b[38;5;34m0\u001b[0m]      │\n",
              "└─────────────────────┴───────────────────┴────────────┴───────────────────┘\n"
            ],
            "text/html": [
              "<pre style=\"white-space:pre;overflow-x:auto;line-height:normal;font-family:Menlo,'DejaVu Sans Mono',consolas,'Courier New',monospace\">┏━━━━━━━━━━━━━━━━━━━━━┳━━━━━━━━━━━━━━━━━━━┳━━━━━━━━━━━━┳━━━━━━━━━━━━━━━━━━━┓\n",
              "┃<span style=\"font-weight: bold\"> Layer (type)        </span>┃<span style=\"font-weight: bold\"> Output Shape      </span>┃<span style=\"font-weight: bold\">    Param # </span>┃<span style=\"font-weight: bold\"> Connected to      </span>┃\n",
              "┡━━━━━━━━━━━━━━━━━━━━━╇━━━━━━━━━━━━━━━━━━━╇━━━━━━━━━━━━╇━━━━━━━━━━━━━━━━━━━┩\n",
              "│ input_layer         │ (<span style=\"color: #00d7ff; text-decoration-color: #00d7ff\">None</span>, <span style=\"color: #00d7ff; text-decoration-color: #00d7ff\">None</span>)      │          <span style=\"color: #00af00; text-decoration-color: #00af00\">0</span> │ -                 │\n",
              "│ (<span style=\"color: #0087ff; text-decoration-color: #0087ff\">InputLayer</span>)        │                   │            │                   │\n",
              "├─────────────────────┼───────────────────┼────────────┼───────────────────┤\n",
              "│ input_layer_1       │ (<span style=\"color: #00d7ff; text-decoration-color: #00d7ff\">None</span>, <span style=\"color: #00d7ff; text-decoration-color: #00d7ff\">None</span>)      │          <span style=\"color: #00af00; text-decoration-color: #00af00\">0</span> │ -                 │\n",
              "│ (<span style=\"color: #0087ff; text-decoration-color: #0087ff\">InputLayer</span>)        │                   │            │                   │\n",
              "├─────────────────────┼───────────────────┼────────────┼───────────────────┤\n",
              "│ embedding           │ (<span style=\"color: #00d7ff; text-decoration-color: #00d7ff\">None</span>, <span style=\"color: #00d7ff; text-decoration-color: #00d7ff\">None</span>, <span style=\"color: #00af00; text-decoration-color: #00af00\">64</span>)  │      <span style=\"color: #00af00; text-decoration-color: #00af00\">5,824</span> │ input_layer[<span style=\"color: #00af00; text-decoration-color: #00af00\">0</span>][<span style=\"color: #00af00; text-decoration-color: #00af00\">0</span>] │\n",
              "│ (<span style=\"color: #0087ff; text-decoration-color: #0087ff\">Embedding</span>)         │                   │            │                   │\n",
              "├─────────────────────┼───────────────────┼────────────┼───────────────────┤\n",
              "│ embedding_1         │ (<span style=\"color: #00d7ff; text-decoration-color: #00d7ff\">None</span>, <span style=\"color: #00d7ff; text-decoration-color: #00d7ff\">None</span>, <span style=\"color: #00af00; text-decoration-color: #00af00\">64</span>)  │      <span style=\"color: #00af00; text-decoration-color: #00af00\">7,424</span> │ input_layer_1[<span style=\"color: #00af00; text-decoration-color: #00af00\">0</span>]… │\n",
              "│ (<span style=\"color: #0087ff; text-decoration-color: #0087ff\">Embedding</span>)         │                   │            │                   │\n",
              "├─────────────────────┼───────────────────┼────────────┼───────────────────┤\n",
              "│ lstm (<span style=\"color: #0087ff; text-decoration-color: #0087ff\">LSTM</span>)         │ [(<span style=\"color: #00d7ff; text-decoration-color: #00d7ff\">None</span>, <span style=\"color: #00af00; text-decoration-color: #00af00\">128</span>),     │     <span style=\"color: #00af00; text-decoration-color: #00af00\">98,816</span> │ embedding[<span style=\"color: #00af00; text-decoration-color: #00af00\">0</span>][<span style=\"color: #00af00; text-decoration-color: #00af00\">0</span>]   │\n",
              "│                     │ (<span style=\"color: #00d7ff; text-decoration-color: #00d7ff\">None</span>, <span style=\"color: #00af00; text-decoration-color: #00af00\">128</span>),      │            │                   │\n",
              "│                     │ (<span style=\"color: #00d7ff; text-decoration-color: #00d7ff\">None</span>, <span style=\"color: #00af00; text-decoration-color: #00af00\">128</span>)]      │            │                   │\n",
              "├─────────────────────┼───────────────────┼────────────┼───────────────────┤\n",
              "│ lstm_1 (<span style=\"color: #0087ff; text-decoration-color: #0087ff\">LSTM</span>)       │ [(<span style=\"color: #00d7ff; text-decoration-color: #00d7ff\">None</span>, <span style=\"color: #00d7ff; text-decoration-color: #00d7ff\">None</span>,     │     <span style=\"color: #00af00; text-decoration-color: #00af00\">98,816</span> │ embedding_1[<span style=\"color: #00af00; text-decoration-color: #00af00\">0</span>][<span style=\"color: #00af00; text-decoration-color: #00af00\">0</span>… │\n",
              "│                     │ <span style=\"color: #00af00; text-decoration-color: #00af00\">128</span>), (<span style=\"color: #00d7ff; text-decoration-color: #00d7ff\">None</span>,      │            │ lstm[<span style=\"color: #00af00; text-decoration-color: #00af00\">0</span>][<span style=\"color: #00af00; text-decoration-color: #00af00\">1</span>],       │\n",
              "│                     │ <span style=\"color: #00af00; text-decoration-color: #00af00\">128</span>), (<span style=\"color: #00d7ff; text-decoration-color: #00d7ff\">None</span>,      │            │ lstm[<span style=\"color: #00af00; text-decoration-color: #00af00\">0</span>][<span style=\"color: #00af00; text-decoration-color: #00af00\">2</span>]        │\n",
              "│                     │ <span style=\"color: #00af00; text-decoration-color: #00af00\">128</span>)]             │            │                   │\n",
              "├─────────────────────┼───────────────────┼────────────┼───────────────────┤\n",
              "│ dense (<span style=\"color: #0087ff; text-decoration-color: #0087ff\">Dense</span>)       │ (<span style=\"color: #00d7ff; text-decoration-color: #00d7ff\">None</span>, <span style=\"color: #00d7ff; text-decoration-color: #00d7ff\">None</span>, <span style=\"color: #00af00; text-decoration-color: #00af00\">116</span>) │     <span style=\"color: #00af00; text-decoration-color: #00af00\">14,964</span> │ lstm_1[<span style=\"color: #00af00; text-decoration-color: #00af00\">0</span>][<span style=\"color: #00af00; text-decoration-color: #00af00\">0</span>]      │\n",
              "└─────────────────────┴───────────────────┴────────────┴───────────────────┘\n",
              "</pre>\n"
            ]
          },
          "metadata": {}
        },
        {
          "output_type": "display_data",
          "data": {
            "text/plain": [
              "\u001b[1m Total params: \u001b[0m\u001b[38;5;34m225,844\u001b[0m (882.20 KB)\n"
            ],
            "text/html": [
              "<pre style=\"white-space:pre;overflow-x:auto;line-height:normal;font-family:Menlo,'DejaVu Sans Mono',consolas,'Courier New',monospace\"><span style=\"font-weight: bold\"> Total params: </span><span style=\"color: #00af00; text-decoration-color: #00af00\">225,844</span> (882.20 KB)\n",
              "</pre>\n"
            ]
          },
          "metadata": {}
        },
        {
          "output_type": "display_data",
          "data": {
            "text/plain": [
              "\u001b[1m Trainable params: \u001b[0m\u001b[38;5;34m225,844\u001b[0m (882.20 KB)\n"
            ],
            "text/html": [
              "<pre style=\"white-space:pre;overflow-x:auto;line-height:normal;font-family:Menlo,'DejaVu Sans Mono',consolas,'Courier New',monospace\"><span style=\"font-weight: bold\"> Trainable params: </span><span style=\"color: #00af00; text-decoration-color: #00af00\">225,844</span> (882.20 KB)\n",
              "</pre>\n"
            ]
          },
          "metadata": {}
        },
        {
          "output_type": "display_data",
          "data": {
            "text/plain": [
              "\u001b[1m Non-trainable params: \u001b[0m\u001b[38;5;34m0\u001b[0m (0.00 B)\n"
            ],
            "text/html": [
              "<pre style=\"white-space:pre;overflow-x:auto;line-height:normal;font-family:Menlo,'DejaVu Sans Mono',consolas,'Courier New',monospace\"><span style=\"font-weight: bold\"> Non-trainable params: </span><span style=\"color: #00af00; text-decoration-color: #00af00\">0</span> (0.00 B)\n",
              "</pre>\n"
            ]
          },
          "metadata": {}
        }
      ]
    },
    {
      "cell_type": "markdown",
      "source": [
        "Bidirectional LSTM Encoder + LSTM Decoder"
      ],
      "metadata": {
        "id": "re3eelWEnTG3"
      },
      "id": "re3eelWEnTG3"
    },
    {
      "cell_type": "code",
      "source": [
        "from tensorflow.keras.models import Model\n",
        "from tensorflow.keras.layers import Input, LSTM, Dense, Bidirectional\n",
        "\n",
        "# Set latent dimensionality\n",
        "latent_dim = 128  # You can adjust this based on memory\n",
        "\n",
        "# Define encoder\n",
        "encoder_inputs = Input(shape=(None, num_encoder_tokens))\n",
        "encoder_lstm = Bidirectional(LSTM(latent_dim, return_state=True))\n",
        "encoder_outputs, forward_h, forward_c, backward_h, backward_c = encoder_lstm(encoder_inputs)\n",
        "state_h = tf.keras.layers.Concatenate()([forward_h, backward_h])\n",
        "state_c = tf.keras.layers.Concatenate()([forward_c, backward_c])\n",
        "\n",
        "# Decoder\n",
        "decoder_inputs = Input(shape=(None, num_decoder_tokens))\n",
        "decoder_lstm = LSTM(latent_dim * 2, return_sequences=True, return_state=True)\n",
        "decoder_outputs, _, _ = decoder_lstm(decoder_inputs, initial_state=[state_h, state_c])\n",
        "decoder_dense = Dense(num_decoder_tokens, activation='softmax')\n",
        "decoder_outputs = decoder_dense(decoder_outputs)\n",
        "\n",
        "# Full model\n",
        "model = Model([encoder_inputs, decoder_inputs], decoder_outputs)\n",
        "model.compile(optimizer='rmsprop', loss='categorical_crossentropy', metrics=['accuracy'])\n",
        "\n",
        "model.summary()\n"
      ],
      "metadata": {
        "id": "8UNnbSQJo7RR",
        "outputId": "f12fcaf5-502b-409d-82fe-72df93280e85",
        "colab": {
          "base_uri": "https://localhost:8080/",
          "height": 561
        }
      },
      "id": "8UNnbSQJo7RR",
      "execution_count": 13,
      "outputs": [
        {
          "output_type": "display_data",
          "data": {
            "text/plain": [
              "\u001b[1mModel: \"functional_1\"\u001b[0m\n"
            ],
            "text/html": [
              "<pre style=\"white-space:pre;overflow-x:auto;line-height:normal;font-family:Menlo,'DejaVu Sans Mono',consolas,'Courier New',monospace\"><span style=\"font-weight: bold\">Model: \"functional_1\"</span>\n",
              "</pre>\n"
            ]
          },
          "metadata": {}
        },
        {
          "output_type": "display_data",
          "data": {
            "text/plain": [
              "┏━━━━━━━━━━━━━━━━━━━━━┳━━━━━━━━━━━━━━━━━━━┳━━━━━━━━━━━━┳━━━━━━━━━━━━━━━━━━━┓\n",
              "┃\u001b[1m \u001b[0m\u001b[1mLayer (type)       \u001b[0m\u001b[1m \u001b[0m┃\u001b[1m \u001b[0m\u001b[1mOutput Shape     \u001b[0m\u001b[1m \u001b[0m┃\u001b[1m \u001b[0m\u001b[1m   Param #\u001b[0m\u001b[1m \u001b[0m┃\u001b[1m \u001b[0m\u001b[1mConnected to     \u001b[0m\u001b[1m \u001b[0m┃\n",
              "┡━━━━━━━━━━━━━━━━━━━━━╇━━━━━━━━━━━━━━━━━━━╇━━━━━━━━━━━━╇━━━━━━━━━━━━━━━━━━━┩\n",
              "│ input_layer_2       │ (\u001b[38;5;45mNone\u001b[0m, \u001b[38;5;45mNone\u001b[0m, \u001b[38;5;34m91\u001b[0m)  │          \u001b[38;5;34m0\u001b[0m │ -                 │\n",
              "│ (\u001b[38;5;33mInputLayer\u001b[0m)        │                   │            │                   │\n",
              "├─────────────────────┼───────────────────┼────────────┼───────────────────┤\n",
              "│ bidirectional       │ [(\u001b[38;5;45mNone\u001b[0m, \u001b[38;5;34m256\u001b[0m),     │    \u001b[38;5;34m225,280\u001b[0m │ input_layer_2[\u001b[38;5;34m0\u001b[0m]… │\n",
              "│ (\u001b[38;5;33mBidirectional\u001b[0m)     │ (\u001b[38;5;45mNone\u001b[0m, \u001b[38;5;34m128\u001b[0m),      │            │                   │\n",
              "│                     │ (\u001b[38;5;45mNone\u001b[0m, \u001b[38;5;34m128\u001b[0m),      │            │                   │\n",
              "│                     │ (\u001b[38;5;45mNone\u001b[0m, \u001b[38;5;34m128\u001b[0m),      │            │                   │\n",
              "│                     │ (\u001b[38;5;45mNone\u001b[0m, \u001b[38;5;34m128\u001b[0m)]      │            │                   │\n",
              "├─────────────────────┼───────────────────┼────────────┼───────────────────┤\n",
              "│ input_layer_3       │ (\u001b[38;5;45mNone\u001b[0m, \u001b[38;5;45mNone\u001b[0m, \u001b[38;5;34m116\u001b[0m) │          \u001b[38;5;34m0\u001b[0m │ -                 │\n",
              "│ (\u001b[38;5;33mInputLayer\u001b[0m)        │                   │            │                   │\n",
              "├─────────────────────┼───────────────────┼────────────┼───────────────────┤\n",
              "│ concatenate         │ (\u001b[38;5;45mNone\u001b[0m, \u001b[38;5;34m256\u001b[0m)       │          \u001b[38;5;34m0\u001b[0m │ bidirectional[\u001b[38;5;34m0\u001b[0m]… │\n",
              "│ (\u001b[38;5;33mConcatenate\u001b[0m)       │                   │            │ bidirectional[\u001b[38;5;34m0\u001b[0m]… │\n",
              "├─────────────────────┼───────────────────┼────────────┼───────────────────┤\n",
              "│ concatenate_1       │ (\u001b[38;5;45mNone\u001b[0m, \u001b[38;5;34m256\u001b[0m)       │          \u001b[38;5;34m0\u001b[0m │ bidirectional[\u001b[38;5;34m0\u001b[0m]… │\n",
              "│ (\u001b[38;5;33mConcatenate\u001b[0m)       │                   │            │ bidirectional[\u001b[38;5;34m0\u001b[0m]… │\n",
              "├─────────────────────┼───────────────────┼────────────┼───────────────────┤\n",
              "│ lstm_3 (\u001b[38;5;33mLSTM\u001b[0m)       │ [(\u001b[38;5;45mNone\u001b[0m, \u001b[38;5;45mNone\u001b[0m,     │    \u001b[38;5;34m381,952\u001b[0m │ input_layer_3[\u001b[38;5;34m0\u001b[0m]… │\n",
              "│                     │ \u001b[38;5;34m256\u001b[0m), (\u001b[38;5;45mNone\u001b[0m,      │            │ concatenate[\u001b[38;5;34m0\u001b[0m][\u001b[38;5;34m0\u001b[0m… │\n",
              "│                     │ \u001b[38;5;34m256\u001b[0m), (\u001b[38;5;45mNone\u001b[0m,      │            │ concatenate_1[\u001b[38;5;34m0\u001b[0m]… │\n",
              "│                     │ \u001b[38;5;34m256\u001b[0m)]             │            │                   │\n",
              "├─────────────────────┼───────────────────┼────────────┼───────────────────┤\n",
              "│ dense_1 (\u001b[38;5;33mDense\u001b[0m)     │ (\u001b[38;5;45mNone\u001b[0m, \u001b[38;5;45mNone\u001b[0m, \u001b[38;5;34m116\u001b[0m) │     \u001b[38;5;34m29,812\u001b[0m │ lstm_3[\u001b[38;5;34m0\u001b[0m][\u001b[38;5;34m0\u001b[0m]      │\n",
              "└─────────────────────┴───────────────────┴────────────┴───────────────────┘\n"
            ],
            "text/html": [
              "<pre style=\"white-space:pre;overflow-x:auto;line-height:normal;font-family:Menlo,'DejaVu Sans Mono',consolas,'Courier New',monospace\">┏━━━━━━━━━━━━━━━━━━━━━┳━━━━━━━━━━━━━━━━━━━┳━━━━━━━━━━━━┳━━━━━━━━━━━━━━━━━━━┓\n",
              "┃<span style=\"font-weight: bold\"> Layer (type)        </span>┃<span style=\"font-weight: bold\"> Output Shape      </span>┃<span style=\"font-weight: bold\">    Param # </span>┃<span style=\"font-weight: bold\"> Connected to      </span>┃\n",
              "┡━━━━━━━━━━━━━━━━━━━━━╇━━━━━━━━━━━━━━━━━━━╇━━━━━━━━━━━━╇━━━━━━━━━━━━━━━━━━━┩\n",
              "│ input_layer_2       │ (<span style=\"color: #00d7ff; text-decoration-color: #00d7ff\">None</span>, <span style=\"color: #00d7ff; text-decoration-color: #00d7ff\">None</span>, <span style=\"color: #00af00; text-decoration-color: #00af00\">91</span>)  │          <span style=\"color: #00af00; text-decoration-color: #00af00\">0</span> │ -                 │\n",
              "│ (<span style=\"color: #0087ff; text-decoration-color: #0087ff\">InputLayer</span>)        │                   │            │                   │\n",
              "├─────────────────────┼───────────────────┼────────────┼───────────────────┤\n",
              "│ bidirectional       │ [(<span style=\"color: #00d7ff; text-decoration-color: #00d7ff\">None</span>, <span style=\"color: #00af00; text-decoration-color: #00af00\">256</span>),     │    <span style=\"color: #00af00; text-decoration-color: #00af00\">225,280</span> │ input_layer_2[<span style=\"color: #00af00; text-decoration-color: #00af00\">0</span>]… │\n",
              "│ (<span style=\"color: #0087ff; text-decoration-color: #0087ff\">Bidirectional</span>)     │ (<span style=\"color: #00d7ff; text-decoration-color: #00d7ff\">None</span>, <span style=\"color: #00af00; text-decoration-color: #00af00\">128</span>),      │            │                   │\n",
              "│                     │ (<span style=\"color: #00d7ff; text-decoration-color: #00d7ff\">None</span>, <span style=\"color: #00af00; text-decoration-color: #00af00\">128</span>),      │            │                   │\n",
              "│                     │ (<span style=\"color: #00d7ff; text-decoration-color: #00d7ff\">None</span>, <span style=\"color: #00af00; text-decoration-color: #00af00\">128</span>),      │            │                   │\n",
              "│                     │ (<span style=\"color: #00d7ff; text-decoration-color: #00d7ff\">None</span>, <span style=\"color: #00af00; text-decoration-color: #00af00\">128</span>)]      │            │                   │\n",
              "├─────────────────────┼───────────────────┼────────────┼───────────────────┤\n",
              "│ input_layer_3       │ (<span style=\"color: #00d7ff; text-decoration-color: #00d7ff\">None</span>, <span style=\"color: #00d7ff; text-decoration-color: #00d7ff\">None</span>, <span style=\"color: #00af00; text-decoration-color: #00af00\">116</span>) │          <span style=\"color: #00af00; text-decoration-color: #00af00\">0</span> │ -                 │\n",
              "│ (<span style=\"color: #0087ff; text-decoration-color: #0087ff\">InputLayer</span>)        │                   │            │                   │\n",
              "├─────────────────────┼───────────────────┼────────────┼───────────────────┤\n",
              "│ concatenate         │ (<span style=\"color: #00d7ff; text-decoration-color: #00d7ff\">None</span>, <span style=\"color: #00af00; text-decoration-color: #00af00\">256</span>)       │          <span style=\"color: #00af00; text-decoration-color: #00af00\">0</span> │ bidirectional[<span style=\"color: #00af00; text-decoration-color: #00af00\">0</span>]… │\n",
              "│ (<span style=\"color: #0087ff; text-decoration-color: #0087ff\">Concatenate</span>)       │                   │            │ bidirectional[<span style=\"color: #00af00; text-decoration-color: #00af00\">0</span>]… │\n",
              "├─────────────────────┼───────────────────┼────────────┼───────────────────┤\n",
              "│ concatenate_1       │ (<span style=\"color: #00d7ff; text-decoration-color: #00d7ff\">None</span>, <span style=\"color: #00af00; text-decoration-color: #00af00\">256</span>)       │          <span style=\"color: #00af00; text-decoration-color: #00af00\">0</span> │ bidirectional[<span style=\"color: #00af00; text-decoration-color: #00af00\">0</span>]… │\n",
              "│ (<span style=\"color: #0087ff; text-decoration-color: #0087ff\">Concatenate</span>)       │                   │            │ bidirectional[<span style=\"color: #00af00; text-decoration-color: #00af00\">0</span>]… │\n",
              "├─────────────────────┼───────────────────┼────────────┼───────────────────┤\n",
              "│ lstm_3 (<span style=\"color: #0087ff; text-decoration-color: #0087ff\">LSTM</span>)       │ [(<span style=\"color: #00d7ff; text-decoration-color: #00d7ff\">None</span>, <span style=\"color: #00d7ff; text-decoration-color: #00d7ff\">None</span>,     │    <span style=\"color: #00af00; text-decoration-color: #00af00\">381,952</span> │ input_layer_3[<span style=\"color: #00af00; text-decoration-color: #00af00\">0</span>]… │\n",
              "│                     │ <span style=\"color: #00af00; text-decoration-color: #00af00\">256</span>), (<span style=\"color: #00d7ff; text-decoration-color: #00d7ff\">None</span>,      │            │ concatenate[<span style=\"color: #00af00; text-decoration-color: #00af00\">0</span>][<span style=\"color: #00af00; text-decoration-color: #00af00\">0</span>… │\n",
              "│                     │ <span style=\"color: #00af00; text-decoration-color: #00af00\">256</span>), (<span style=\"color: #00d7ff; text-decoration-color: #00d7ff\">None</span>,      │            │ concatenate_1[<span style=\"color: #00af00; text-decoration-color: #00af00\">0</span>]… │\n",
              "│                     │ <span style=\"color: #00af00; text-decoration-color: #00af00\">256</span>)]             │            │                   │\n",
              "├─────────────────────┼───────────────────┼────────────┼───────────────────┤\n",
              "│ dense_1 (<span style=\"color: #0087ff; text-decoration-color: #0087ff\">Dense</span>)     │ (<span style=\"color: #00d7ff; text-decoration-color: #00d7ff\">None</span>, <span style=\"color: #00d7ff; text-decoration-color: #00d7ff\">None</span>, <span style=\"color: #00af00; text-decoration-color: #00af00\">116</span>) │     <span style=\"color: #00af00; text-decoration-color: #00af00\">29,812</span> │ lstm_3[<span style=\"color: #00af00; text-decoration-color: #00af00\">0</span>][<span style=\"color: #00af00; text-decoration-color: #00af00\">0</span>]      │\n",
              "└─────────────────────┴───────────────────┴────────────┴───────────────────┘\n",
              "</pre>\n"
            ]
          },
          "metadata": {}
        },
        {
          "output_type": "display_data",
          "data": {
            "text/plain": [
              "\u001b[1m Total params: \u001b[0m\u001b[38;5;34m637,044\u001b[0m (2.43 MB)\n"
            ],
            "text/html": [
              "<pre style=\"white-space:pre;overflow-x:auto;line-height:normal;font-family:Menlo,'DejaVu Sans Mono',consolas,'Courier New',monospace\"><span style=\"font-weight: bold\"> Total params: </span><span style=\"color: #00af00; text-decoration-color: #00af00\">637,044</span> (2.43 MB)\n",
              "</pre>\n"
            ]
          },
          "metadata": {}
        },
        {
          "output_type": "display_data",
          "data": {
            "text/plain": [
              "\u001b[1m Trainable params: \u001b[0m\u001b[38;5;34m637,044\u001b[0m (2.43 MB)\n"
            ],
            "text/html": [
              "<pre style=\"white-space:pre;overflow-x:auto;line-height:normal;font-family:Menlo,'DejaVu Sans Mono',consolas,'Courier New',monospace\"><span style=\"font-weight: bold\"> Trainable params: </span><span style=\"color: #00af00; text-decoration-color: #00af00\">637,044</span> (2.43 MB)\n",
              "</pre>\n"
            ]
          },
          "metadata": {}
        },
        {
          "output_type": "display_data",
          "data": {
            "text/plain": [
              "\u001b[1m Non-trainable params: \u001b[0m\u001b[38;5;34m0\u001b[0m (0.00 B)\n"
            ],
            "text/html": [
              "<pre style=\"white-space:pre;overflow-x:auto;line-height:normal;font-family:Menlo,'DejaVu Sans Mono',consolas,'Courier New',monospace\"><span style=\"font-weight: bold\"> Non-trainable params: </span><span style=\"color: #00af00; text-decoration-color: #00af00\">0</span> (0.00 B)\n",
              "</pre>\n"
            ]
          },
          "metadata": {}
        }
      ]
    },
    {
      "cell_type": "markdown",
      "source": [
        "**imit Number of Samples **"
      ],
      "metadata": {
        "id": "rcuMB69CvRbO"
      },
      "id": "rcuMB69CvRbO"
    },
    {
      "cell_type": "code",
      "source": [
        "MAX_SAMPLES = 5000  # or start with 20000\n",
        "filtered_input = []\n",
        "filtered_target = []\n",
        "\n",
        "for line in lines:\n",
        "    parts = line.strip().split('\\t')\n",
        "    if len(parts) == 2:\n",
        "        eng, fra = parts\n",
        "        filtered_input.append(eng)\n",
        "        filtered_target.append('\\t' + fra + '\\n')\n",
        "    if len(filtered_input) >= MAX_SAMPLES:\n",
        "        break\n",
        "\n",
        "input_texts = filtered_input\n",
        "target_texts = filtered_target\n"
      ],
      "metadata": {
        "id": "uyYPEKS0vVHu"
      },
      "id": "uyYPEKS0vVHu",
      "execution_count": 14,
      "outputs": []
    },
    {
      "cell_type": "code",
      "source": [
        "from tensorflow.keras.layers import Input, LSTM, Embedding, Dense\n",
        "\n",
        "# Encoder\n",
        "encoder_inputs = Input(shape=(None,))\n",
        "encoder_embedding = Embedding(input_dim=num_encoder_tokens, output_dim=64)(encoder_inputs)\n",
        "encoder_lstm, state_h, state_c = LSTM(128, return_state=True)(encoder_embedding)\n",
        "encoder_states = [state_h, state_c]\n",
        "\n",
        "# Decoder\n",
        "decoder_inputs = Input(shape=(None,))\n",
        "decoder_embedding = Embedding(input_dim=num_decoder_tokens, output_dim=64)(decoder_inputs)\n",
        "decoder_lstm, _, _ = LSTM(128, return_sequences=True, return_state=True)(decoder_embedding, initial_state=encoder_states)\n",
        "decoder_dense = Dense(num_decoder_tokens, activation='softmax')\n",
        "decoder_outputs = decoder_dense(decoder_lstm)\n",
        "\n",
        "# Model\n",
        "model = tf.keras.Model([encoder_inputs, decoder_inputs], decoder_outputs)\n",
        "model.compile(optimizer='rmsprop', loss='sparse_categorical_crossentropy', metrics=['accuracy'])\n"
      ],
      "metadata": {
        "id": "efXMURBg8xeC"
      },
      "id": "efXMURBg8xeC",
      "execution_count": 15,
      "outputs": []
    },
    {
      "cell_type": "markdown",
      "source": [
        "Train the Model"
      ],
      "metadata": {
        "id": "l8fIbqblpw6U"
      },
      "id": "l8fIbqblpw6U"
    },
    {
      "cell_type": "code",
      "source": [
        "model.fit([encoder_input_data, decoder_input_data],\n",
        "          decoder_target_data,\n",
        "          batch_size=64,\n",
        "          epochs=10,\n",
        "          validation_split=0.2)\n"
      ],
      "metadata": {
        "id": "mf7DBUDquHLk",
        "outputId": "58653dbc-1c46-49e3-e8b8-a97cd6bfa9a6",
        "colab": {
          "base_uri": "https://localhost:8080/"
        }
      },
      "id": "mf7DBUDquHLk",
      "execution_count": 16,
      "outputs": [
        {
          "output_type": "stream",
          "name": "stdout",
          "text": [
            "Epoch 1/10\n",
            "\u001b[1m2973/2973\u001b[0m \u001b[32m━━━━━━━━━━━━━━━━━━━━\u001b[0m\u001b[37m\u001b[0m \u001b[1m109s\u001b[0m 35ms/step - accuracy: 0.9302 - loss: 0.2755 - val_accuracy: 0.9029 - val_loss: 0.3297\n",
            "Epoch 2/10\n",
            "\u001b[1m2973/2973\u001b[0m \u001b[32m━━━━━━━━━━━━━━━━━━━━\u001b[0m\u001b[37m\u001b[0m \u001b[1m140s\u001b[0m 35ms/step - accuracy: 0.9522 - loss: 0.1625 - val_accuracy: 0.9145 - val_loss: 0.2912\n",
            "Epoch 3/10\n",
            "\u001b[1m2973/2973\u001b[0m \u001b[32m━━━━━━━━━━━━━━━━━━━━\u001b[0m\u001b[37m\u001b[0m \u001b[1m142s\u001b[0m 36ms/step - accuracy: 0.9574 - loss: 0.1439 - val_accuracy: 0.9193 - val_loss: 0.2724\n",
            "Epoch 4/10\n",
            "\u001b[1m2973/2973\u001b[0m \u001b[32m━━━━━━━━━━━━━━━━━━━━\u001b[0m\u001b[37m\u001b[0m \u001b[1m105s\u001b[0m 35ms/step - accuracy: 0.9600 - loss: 0.1343 - val_accuracy: 0.9222 - val_loss: 0.2608\n",
            "Epoch 5/10\n",
            "\u001b[1m2973/2973\u001b[0m \u001b[32m━━━━━━━━━━━━━━━━━━━━\u001b[0m\u001b[37m\u001b[0m \u001b[1m142s\u001b[0m 35ms/step - accuracy: 0.9618 - loss: 0.1279 - val_accuracy: 0.9249 - val_loss: 0.2513\n",
            "Epoch 6/10\n",
            "\u001b[1m2973/2973\u001b[0m \u001b[32m━━━━━━━━━━━━━━━━━━━━\u001b[0m\u001b[37m\u001b[0m \u001b[1m142s\u001b[0m 35ms/step - accuracy: 0.9630 - loss: 0.1231 - val_accuracy: 0.9265 - val_loss: 0.2453\n",
            "Epoch 7/10\n",
            "\u001b[1m2973/2973\u001b[0m \u001b[32m━━━━━━━━━━━━━━━━━━━━\u001b[0m\u001b[37m\u001b[0m \u001b[1m142s\u001b[0m 35ms/step - accuracy: 0.9641 - loss: 0.1194 - val_accuracy: 0.9281 - val_loss: 0.2390\n",
            "Epoch 8/10\n",
            "\u001b[1m2973/2973\u001b[0m \u001b[32m━━━━━━━━━━━━━━━━━━━━\u001b[0m\u001b[37m\u001b[0m \u001b[1m115s\u001b[0m 39ms/step - accuracy: 0.9649 - loss: 0.1163 - val_accuracy: 0.9294 - val_loss: 0.2346\n",
            "Epoch 9/10\n",
            "\u001b[1m2973/2973\u001b[0m \u001b[32m━━━━━━━━━━━━━━━━━━━━\u001b[0m\u001b[37m\u001b[0m \u001b[1m133s\u001b[0m 36ms/step - accuracy: 0.9656 - loss: 0.1135 - val_accuracy: 0.9300 - val_loss: 0.2308\n",
            "Epoch 10/10\n",
            "\u001b[1m2973/2973\u001b[0m \u001b[32m━━━━━━━━━━━━━━━━━━━━\u001b[0m\u001b[37m\u001b[0m \u001b[1m142s\u001b[0m 36ms/step - accuracy: 0.9661 - loss: 0.1116 - val_accuracy: 0.9312 - val_loss: 0.2275\n"
          ]
        },
        {
          "output_type": "execute_result",
          "data": {
            "text/plain": [
              "<keras.src.callbacks.history.History at 0x79dae7843750>"
            ]
          },
          "metadata": {},
          "execution_count": 16
        }
      ]
    },
    {
      "cell_type": "markdown",
      "source": [
        "**Bidirectional LSTM Encoder + LSTM Decoder**"
      ],
      "metadata": {
        "id": "iXyDYpNUDQfc"
      },
      "id": "iXyDYpNUDQfc"
    },
    {
      "cell_type": "markdown",
      "source": [
        "**Create a function that evaluates your model's translations using the BLEU score.**"
      ],
      "metadata": {
        "id": "SuiSC4k5F_jd"
      },
      "id": "SuiSC4k5F_jd"
    },
    {
      "cell_type": "code",
      "source": [
        "from nltk.translate.bleu_score import sentence_bleu, SmoothingFunction\n",
        "\n",
        "def decode_sequence(input_seq, encoder_model, decoder_model, max_decoder_seq_length, target_token_index, reverse_target_char_index):\n",
        "    # Encode the input as state vectors.\n",
        "    states_value = encoder_model.predict(input_seq)\n",
        "\n",
        "    # Generate empty target sequence with just the start character.\n",
        "    target_seq = np.zeros((1, 1))\n",
        "    target_seq[0, 0] = target_token_index['\\t']\n",
        "\n",
        "    decoded_sentence = ''\n",
        "    for _ in range(max_decoder_seq_length):\n",
        "        output_tokens, h, c = decoder_model.predict([target_seq] + states_value)\n",
        "        sampled_token_index = np.argmax(output_tokens[0, -1, :])\n",
        "        sampled_char = reverse_target_char_index.get(sampled_token_index, '')\n",
        "\n",
        "        if sampled_char == '\\n':\n",
        "            break\n",
        "        decoded_sentence += sampled_char\n",
        "\n",
        "        target_seq[0, 0] = sampled_token_index\n",
        "        states_value = [h, c]\n",
        "    return decoded_sentence\n",
        "\n",
        "# Placeholder: define encoder_model and decoder_model later (after training)\n"
      ],
      "metadata": {
        "id": "yNoL_Hc0XpZ1"
      },
      "id": "yNoL_Hc0XpZ1",
      "execution_count": 17,
      "outputs": []
    },
    {
      "cell_type": "markdown",
      "source": [
        "**Set up inference models (separate encoder and decoder) for testing.**"
      ],
      "metadata": {
        "id": "LLRoRM-CXtQO"
      },
      "id": "LLRoRM-CXtQO"
    },
    {
      "cell_type": "code",
      "source": [
        "from tensorflow.keras.models import Model\n",
        "from tensorflow.keras.layers import Input\n",
        "\n",
        "# Decoder states input\n",
        "decoder_state_input_h = Input(shape=(latent_dim,))\n",
        "decoder_state_input_c = Input(shape=(latent_dim,))\n",
        "decoder_states_inputs = [decoder_state_input_h, decoder_state_input_c]\n",
        "\n",
        "# Decoder input\n",
        "decoder_inputs_inf = Input(shape=(None,))\n",
        "\n",
        "# Reuse decoder embedding layer (correct name: embedding_3)\n",
        "decoder_embedding_layer = model.get_layer(name='embedding_3')\n",
        "decoder_embedding_inf = decoder_embedding_layer(decoder_inputs_inf)\n",
        "\n",
        "# Reuse decoder LSTM layer (correct name: lstm_5)\n",
        "decoder_lstm_layer = model.get_layer(name='lstm_5')\n",
        "decoder_outputs, state_h, state_c = decoder_lstm_layer(\n",
        "    decoder_embedding_inf, initial_state=decoder_states_inputs\n",
        ")\n",
        "decoder_states = [state_h, state_c]\n",
        "\n",
        "# Reuse final Dense layer (correct name: dense_2)\n",
        "decoder_dense_layer = model.get_layer(name='dense_2')\n",
        "decoder_outputs = decoder_dense_layer(decoder_outputs)\n",
        "\n",
        "# Final decoder model for inference\n",
        "decoder_model = Model(\n",
        "    [decoder_inputs_inf] + decoder_states_inputs,\n",
        "    [decoder_outputs] + decoder_states\n",
        ")"
      ],
      "metadata": {
        "id": "QzC3jgBEXx3l"
      },
      "id": "QzC3jgBEXx3l",
      "execution_count": 22,
      "outputs": []
    },
    {
      "cell_type": "markdown",
      "source": [
        "**This function uses the inference models to translate an English sentence (as a character sequence) into French.**"
      ],
      "metadata": {
        "id": "lnq7j4cEaV2c"
      },
      "id": "lnq7j4cEaV2c"
    },
    {
      "cell_type": "code",
      "source": [
        "def decode_sequence(input_seq):\n",
        "    # Encode the input as state vectors.\n",
        "    states_value = encoder_model.predict(input_seq)\n",
        "\n",
        "    # Generate empty target sequence with just the start character '\\t'\n",
        "    target_seq = np.zeros((1, 1))\n",
        "    target_seq[0, 0] = target_token_index['\\t']\n",
        "\n",
        "    # Initialize decoded sentence\n",
        "    stop_condition = False\n",
        "    decoded_sentence = ''\n",
        "\n",
        "    while not stop_condition:\n",
        "        output_tokens, h, c = decoder_model.predict([target_seq] + states_value)\n",
        "\n",
        "        # Sample a token\n",
        "        sampled_token_index = np.argmax(output_tokens[0, -1, :])\n",
        "        sampled_char = reverse_target_char_index.get(sampled_token_index, '')\n",
        "\n",
        "        decoded_sentence += sampled_char\n",
        "\n",
        "        # Exit if end token or max length reached\n",
        "        if sampled_char == '\\n' or len(decoded_sentence) > max_decoder_seq_length:\n",
        "            stop_condition = True\n",
        "\n",
        "        # Update the target sequence (length 1).\n",
        "        target_seq = np.zeros((1, 1))\n",
        "        target_seq[0, 0] = sampled_token_index\n",
        "\n",
        "        # Update states\n",
        "        states_value = [h, c]\n",
        "\n",
        "    return decoded_sentence\n"
      ],
      "metadata": {
        "id": "GTVzGUbOaaEb"
      },
      "id": "GTVzGUbOaaEb",
      "execution_count": 23,
      "outputs": []
    },
    {
      "cell_type": "markdown",
      "source": [
        "**Create an evaluation wrapper with BLEU score**"
      ],
      "metadata": {
        "id": "P5OGjAYIahPk"
      },
      "id": "P5OGjAYIahPk"
    },
    {
      "cell_type": "code",
      "source": [
        "from nltk.translate.bleu_score import sentence_bleu, SmoothingFunction\n",
        "smoothie = SmoothingFunction().method4\n",
        "\n",
        "def evaluate_bleu(n=100):\n",
        "    total_bleu = 0.0\n",
        "    for i in range(n):\n",
        "        input_seq = encoder_input_data[i:i+1]  # One sample\n",
        "        decoded_sentence = decode_sequence(input_seq)\n",
        "\n",
        "        # Remove start/end tokens\n",
        "        reference = [list(target_texts[i][1:-1])]\n",
        "        candidate = list(decoded_sentence.strip())\n",
        "\n",
        "        bleu = sentence_bleu(reference, candidate, smoothing_function=smoothie)\n",
        "        total_bleu += bleu\n",
        "\n",
        "        print(f'Input: {input_texts[i]}')\n",
        "        print(f'Target: {target_texts[i]}')\n",
        "        print(f'Predicted: {decoded_sentence.strip()}')\n",
        "        print(f'BLEU: {bleu:.4f}')\n",
        "        print('---')\n",
        "\n",
        "    avg_bleu = total_bleu / n\n",
        "    print(f'\\nAverage BLEU score over {n} samples: {avg_bleu:.4f}')\n"
      ],
      "metadata": {
        "id": "gsw3sEynajND"
      },
      "id": "gsw3sEynajND",
      "execution_count": 24,
      "outputs": []
    },
    {
      "cell_type": "markdown",
      "source": [
        "**Run the evaluation**"
      ],
      "metadata": {
        "id": "Uax8OsSSavFj"
      },
      "id": "Uax8OsSSavFj"
    },
    {
      "cell_type": "code",
      "source": [
        "def evaluate_bleu(n=50):\n",
        "    total_bleu = 0.0\n",
        "    num_samples = min(n, len(input_texts))  # Make sure not to exceed available data\n",
        "\n",
        "    if num_samples == 0:\n",
        "        print(\"No samples available for evaluation.\")\n",
        "        return\n",
        "\n",
        "    for i in range(num_samples):\n",
        "        input_seq = encoder_input_data[i:i+1]\n",
        "        decoded_sentence = decode_sequence(input_seq)\n",
        "\n",
        "        # Reference: remove start '\\t' and end '\\n'\n",
        "        reference = [list(target_texts[i][1:-1])]\n",
        "        candidate = list(decoded_sentence.strip())\n",
        "\n",
        "        bleu = sentence_bleu(reference, candidate, smoothing_function=smoothie)\n",
        "        total_bleu += bleu\n",
        "\n",
        "        print(f'Input: {input_texts[i]}')\n",
        "        print(f'Target: {target_texts[i]}')\n",
        "        print(f'Predicted: {decoded_sentence.strip()}')\n",
        "        print(f'BLEU: {bleu:.4f}')\n",
        "        print('---')\n",
        "\n",
        "    avg_bleu = total_bleu / num_samples\n",
        "    print(f'\\nAverage BLEU score over {num_samples} samples: {avg_bleu:.4f}')\n",
        "\n",
        "evaluate_bleu(n=50)\n"
      ],
      "metadata": {
        "id": "DA81uDpOaxi8",
        "outputId": "257b6407-b176-4306-ea93-2d16b397b781",
        "colab": {
          "base_uri": "https://localhost:8080/"
        }
      },
      "id": "DA81uDpOaxi8",
      "execution_count": 29,
      "outputs": [
        {
          "output_type": "stream",
          "name": "stdout",
          "text": [
            "No samples available for evaluation.\n"
          ]
        }
      ]
    },
    {
      "cell_type": "code",
      "source": [
        "print(\"Number of input_texts:\", len(input_texts))\n",
        "print(\"Number of target_texts:\", len(target_texts))\n",
        "print(\"encoder_input_data shape:\", encoder_input_data.shape)\n",
        "print(\"decoder_input_data shape:\", decoder_input_data.shape)\n",
        "print(\"decoder_target_data shape:\", decoder_target_data.shape)\n"
      ],
      "metadata": {
        "id": "7zsejFHmcq4C",
        "outputId": "8ffbc656-5251-4e17-e538-6c8c822544dd",
        "colab": {
          "base_uri": "https://localhost:8080/"
        }
      },
      "id": "7zsejFHmcq4C",
      "execution_count": 32,
      "outputs": [
        {
          "output_type": "stream",
          "name": "stdout",
          "text": [
            "Number of input_texts: 237838\n",
            "Number of target_texts: 237838\n",
            "encoder_input_data shape: (237838, 292)\n",
            "decoder_input_data shape: (237838, 351)\n",
            "decoder_target_data shape: (237838, 351, 1)\n"
          ]
        }
      ]
    },
    {
      "cell_type": "markdown",
      "source": [
        "**Restore original texts from encoder input**"
      ],
      "metadata": {
        "id": "QmMh0b0udIIS"
      },
      "id": "QmMh0b0udIIS"
    },
    {
      "cell_type": "code",
      "source": [
        "# Reconstruct input_texts from encoder_input_data\n",
        "reversed_input_token_index = {i: char for char, i in input_token_index.items()}\n",
        "reversed_target_token_index = {i: char for char, i in target_token_index.items()}\n",
        "\n",
        "def decode_sequence_from_input(input_seq):\n",
        "    return ''.join(reversed_input_token_index.get(i, '') for i in input_seq if i != 0)\n",
        "\n",
        "def decode_sequence_from_target(target_seq):\n",
        "    return ''.join(reversed_target_token_index.get(i, '') for i in target_seq if i != 0)\n",
        "\n",
        "# Rebuild input_texts and target_texts for BLEU\n",
        "input_texts = [decode_sequence_from_input(seq) for seq in encoder_input_data]\n",
        "target_texts = ['\\t' + decode_sequence_from_target(seq) + '\\n' for seq in decoder_input_data]\n"
      ],
      "metadata": {
        "id": "12PxocLDdLM7"
      },
      "id": "12PxocLDdLM7",
      "execution_count": 31,
      "outputs": []
    },
    {
      "cell_type": "code",
      "source": [
        "from nltk.translate.bleu_score import sentence_bleu\n",
        "\n",
        "def decode_sequence(input_seq):\n",
        "    # Encode the input as states\n",
        "    states_value = encoder_model.predict(input_seq, verbose=0)\n",
        "\n",
        "    target_seq = np.zeros((1, 1))\n",
        "    target_seq[0, 0] = target_token_index['\\t']  # Start token\n",
        "\n",
        "    stop_condition = False\n",
        "    decoded_sentence = ''\n",
        "    while not stop_condition:\n",
        "        output_tokens, h, c = decoder_model.predict([target_seq] + states_value, verbose=0)\n",
        "\n",
        "        sampled_token_index = np.argmax(output_tokens[0, -1, :])\n",
        "        sampled_char = reverse_target_char_index.get(sampled_token_index, '')\n",
        "\n",
        "        decoded_sentence += sampled_char\n",
        "\n",
        "        if sampled_char == '\\n' or len(decoded_sentence) > max_decoder_seq_length:\n",
        "            stop_condition = True\n",
        "\n",
        "        target_seq[0, 0] = sampled_token_index\n",
        "        states_value = [h, c]\n",
        "\n",
        "    return decoded_sentence\n",
        "\n",
        "def evaluate_bleu(n=50):\n",
        "    total_bleu = 0\n",
        "    num_samples = min(n, len(input_texts))\n",
        "\n",
        "    for i in range(num_samples):\n",
        "        input_seq = encoder_input_data[i:i+1]\n",
        "        decoded_sentence = decode_sequence(input_seq)\n",
        "\n",
        "        reference = [list(target_texts[i][1:-1])]  # Remove \\t and \\n\n",
        "        candidate = list(decoded_sentence.strip())\n",
        "\n",
        "        bleu_score = sentence_bleu(reference, candidate, weights=(0.5, 0.5))\n",
        "        total_bleu += bleu_score\n",
        "\n",
        "        print(f'Input    : {input_texts[i]}')\n",
        "        print(f'Target   : {target_texts[i][1:-1]}')\n",
        "        print(f'Predicted: {decoded_sentence.strip()}')\n",
        "        print(f'BLEU     : {bleu_score:.4f}')\n",
        "        print('---')\n",
        "\n",
        "    avg_bleu = total_bleu / num_samples\n",
        "    print(f'\\nAverage BLEU score over {num_samples} samples: {avg_bleu:.4f}')\n",
        "\n",
        "# Run the evaluation on N samples\n",
        "evaluate_bleu(n=50)\n"
      ],
      "metadata": {
        "id": "I8hf_cgSdusM",
        "outputId": "96753292-d7a6-4784-dac3-da904ec7f4f2",
        "colab": {
          "base_uri": "https://localhost:8080/",
          "height": 1000
        }
      },
      "id": "I8hf_cgSdusM",
      "execution_count": 33,
      "outputs": [
        {
          "output_type": "stream",
          "name": "stdout",
          "text": [
            "Input    : Go.\n",
            "Target   : \tVa !\n",
            "Predicted: Kf!of!tvjt!qbt!ef!mb!qpsuf!ef!mb!qpsuf/ / / / / / «A !ftu!mf!gbjsf!A «A !A !ftu.df!A «A «A «A !ftu!mf!gbjsf!A «A !ftu!mf!gbjsf!A «A !A !ftu.df!A «A «A «A !ftu!mf!gbjsf!A «A !ftu!mf!gbjsf!A «A !A !ftu.df!A «A «A «A !ftu!mf!gbjsf!A «A !ftu!mf!gbjsf!A «A !A !ftu.df!A «A «A «A !ftu!mf!gbjsf!A «A !ftu!mf!gbjsf!A «A !A !ftu.df!A «A «A «A !ftu!mf!gbjsf!A «A\n",
            "BLEU     : 0.0040\n",
            "---\n"
          ]
        },
        {
          "output_type": "stream",
          "name": "stderr",
          "text": [
            "/usr/local/lib/python3.11/dist-packages/nltk/translate/bleu_score.py:577: UserWarning: \n",
            "The hypothesis contains 0 counts of 2-gram overlaps.\n",
            "Therefore the BLEU score evaluates to 0, independently of\n",
            "how many N-gram overlaps of lower order it contains.\n",
            "Consider using lower n-gram order or use SmoothingFunction()\n",
            "  warnings.warn(_msg)\n"
          ]
        },
        {
          "output_type": "stream",
          "name": "stdout",
          "text": [
            "Input    : Go.\n",
            "Target   : \tMarche.\n",
            "Predicted: Kf!of!tvjt!qbt!ef!mb!qpsuf!ef!mb!qpsuf/ / / / / / «A !ftu!mf!gbjsf!A «A !A !ftu.df!A «A «A «A !ftu!mf!gbjsf!A «A !ftu!mf!gbjsf!A «A !A !ftu.df!A «A «A «A !ftu!mf!gbjsf!A «A !ftu!mf!gbjsf!A «A !A !ftu.df!A «A «A «A !ftu!mf!gbjsf!A «A !ftu!mf!gbjsf!A «A !A !ftu.df!A «A «A «A !ftu!mf!gbjsf!A «A !ftu!mf!gbjsf!A «A !A !ftu.df!A «A «A «A !ftu!mf!gbjsf!A «A\n",
            "BLEU     : 0.0000\n",
            "---\n",
            "Input    : Go.\n",
            "Target   : \tEn route !\n",
            "Predicted: Kf!of!tvjt!qbt!ef!mb!qpsuf!ef!mb!qpsuf/ / / / / / «A !ftu!mf!gbjsf!A «A !A !ftu.df!A «A «A «A !ftu!mf!gbjsf!A «A !ftu!mf!gbjsf!A «A !A !ftu.df!A «A «A «A !ftu!mf!gbjsf!A «A !ftu!mf!gbjsf!A «A !A !ftu.df!A «A «A «A !ftu!mf!gbjsf!A «A !ftu!mf!gbjsf!A «A !A !ftu.df!A «A «A «A !ftu!mf!gbjsf!A «A !ftu!mf!gbjsf!A «A !A !ftu.df!A «A «A «A !ftu!mf!gbjsf!A «A\n",
            "BLEU     : 0.0075\n",
            "---\n",
            "Input    : Go.\n",
            "Target   : \tBouge !\n",
            "Predicted: Kf!of!tvjt!qbt!ef!mb!qpsuf!ef!mb!qpsuf/ / / / / / «A !ftu!mf!gbjsf!A «A !A !ftu.df!A «A «A «A !ftu!mf!gbjsf!A «A !ftu!mf!gbjsf!A «A !A !ftu.df!A «A «A «A !ftu!mf!gbjsf!A «A !ftu!mf!gbjsf!A «A !A !ftu.df!A «A «A «A !ftu!mf!gbjsf!A «A !ftu!mf!gbjsf!A «A !A !ftu.df!A «A «A «A !ftu!mf!gbjsf!A «A !ftu!mf!gbjsf!A «A !A !ftu.df!A «A «A «A !ftu!mf!gbjsf!A «A\n",
            "BLEU     : 0.0070\n",
            "---\n",
            "Input    : Hi.\n",
            "Target   : \tSalut !\n",
            "Predicted: Kf!of!tvjt!qbt!ef!mb!qpsuf!ef!mb!qpsuf/ / / / / / «A !ftu!mf!gbjsf!A «A !A !ftu.df!A «A «A «A !ftu!mf!gbjsf!A «A !ftu!mf!gbjsf!A «A !A !ftu.df!A «A «A «A !ftu!mf!gbjsf!A «A !ftu!mf!gbjsf!A «A !A !ftu.df!A «A «A «A !ftu!mf!gbjsf!A «A !ftu!mf!gbjsf!A «A !A !ftu.df!A «A «A «A !ftu!mf!gbjsf!A «A !ftu!mf!gbjsf!A «A !A !ftu.df!A «A «A «A !ftu!mf!gbjsf!A «A\n",
            "BLEU     : 0.0057\n",
            "---\n",
            "Input    : Hi.\n",
            "Target   : \tSalut.\n",
            "Predicted: Kf!of!tvjt!qbt!ef!mb!qpsuf!ef!mb!qpsuf/ / / / / / «A !ftu!mf!gbjsf!A «A !A !ftu.df!A «A «A «A !ftu!mf!gbjsf!A «A !ftu!mf!gbjsf!A «A !A !ftu.df!A «A «A «A !ftu!mf!gbjsf!A «A !ftu!mf!gbjsf!A «A !A !ftu.df!A «A «A «A !ftu!mf!gbjsf!A «A !ftu!mf!gbjsf!A «A !A !ftu.df!A «A «A «A !ftu!mf!gbjsf!A «A !ftu!mf!gbjsf!A «A !A !ftu.df!A «A «A «A !ftu!mf!gbjsf!A «A\n",
            "BLEU     : 0.0000\n",
            "---\n",
            "Input    : Run!\n",
            "Target   : \tCours !\n",
            "Predicted: Kf!of!tvjt!qbt!ef!mb!qpsuf!ef!mb!qpsuf/ / / / / / «A !ftu!mf!gbjsf!A «A !A !ftu.df!A «A «A «A !ftu!mf!gbjsf!A «A !ftu!mf!gbjsf!A «A !A !ftu.df!A «A «A «A !ftu!mf!gbjsf!A «A !ftu!mf!gbjsf!A «A !A !ftu.df!A «A «A «A !ftu!mf!gbjsf!A «A !ftu!mf!gbjsf!A «A !A !ftu.df!A «A «A «A !ftu!mf!gbjsf!A «A !ftu!mf!gbjsf!A «A !A !ftu.df!A «A «A «A !ftu!mf!gbjsf!A «A\n",
            "BLEU     : 0.0000\n",
            "---\n",
            "Input    : Run!\n",
            "Target   : \tCourez !\n",
            "Predicted: Kf!of!tvjt!qbt!ef!mb!qpsuf!ef!mb!qpsuf/ / / / / / «A !ftu!mf!gbjsf!A «A !A !ftu.df!A «A «A «A !ftu!mf!gbjsf!A «A !ftu!mf!gbjsf!A «A !A !ftu.df!A «A «A «A !ftu!mf!gbjsf!A «A !ftu!mf!gbjsf!A «A !A !ftu.df!A «A «A «A !ftu!mf!gbjsf!A «A !ftu!mf!gbjsf!A «A !A !ftu.df!A «A «A «A !ftu!mf!gbjsf!A «A !ftu!mf!gbjsf!A «A !A !ftu.df!A «A «A «A !ftu!mf!gbjsf!A «A\n",
            "BLEU     : 0.0000\n",
            "---\n",
            "Input    : Run!\n",
            "Target   : \tPrenez vos jambes à vos cous !\n",
            "Predicted: Kf!of!tvjt!qbt!ef!mb!qpsuf!ef!mb!qpsuf/ / / / / / «A !ftu!mf!gbjsf!A «A !A !ftu.df!A «A «A «A !ftu!mf!gbjsf!A «A !ftu!mf!gbjsf!A «A !A !ftu.df!A «A «A «A !ftu!mf!gbjsf!A «A !ftu!mf!gbjsf!A «A !A !ftu.df!A «A «A «A !ftu!mf!gbjsf!A «A !ftu!mf!gbjsf!A «A !A !ftu.df!A «A «A «A !ftu!mf!gbjsf!A «A !ftu!mf!gbjsf!A «A !A !ftu.df!A «A «A «A !ftu!mf!gbjsf!A «A\n",
            "BLEU     : 0.0175\n",
            "---\n",
            "Input    : Run!\n",
            "Target   : \tFile !\n",
            "Predicted: Kf!of!tvjt!qbt!ef!mb!qpsuf!ef!mb!qpsuf/ / / / / / «A !ftu!mf!gbjsf!A «A !A !ftu.df!A «A «A «A !ftu!mf!gbjsf!A «A !ftu!mf!gbjsf!A «A !A !ftu.df!A «A «A «A !ftu!mf!gbjsf!A «A !ftu!mf!gbjsf!A «A !A !ftu.df!A «A «A «A !ftu!mf!gbjsf!A «A !ftu!mf!gbjsf!A «A !A !ftu.df!A «A «A «A !ftu!mf!gbjsf!A «A !ftu!mf!gbjsf!A «A !A !ftu.df!A «A «A «A !ftu!mf!gbjsf!A «A\n",
            "BLEU     : 0.0049\n",
            "---\n",
            "Input    : Run!\n",
            "Target   : \tFilez !\n",
            "Predicted: Kf!of!tvjt!qbt!ef!mb!qpsuf!ef!mb!qpsuf/ / / / / / «A !ftu!mf!gbjsf!A «A !A !ftu.df!A «A «A «A !ftu!mf!gbjsf!A «A !ftu!mf!gbjsf!A «A !A !ftu.df!A «A «A «A !ftu!mf!gbjsf!A «A !ftu!mf!gbjsf!A «A !A !ftu.df!A «A «A «A !ftu!mf!gbjsf!A «A !ftu!mf!gbjsf!A «A !A !ftu.df!A «A «A «A !ftu!mf!gbjsf!A «A !ftu!mf!gbjsf!A «A !A !ftu.df!A «A «A «A !ftu!mf!gbjsf!A «A\n",
            "BLEU     : 0.0049\n",
            "---\n",
            "Input    : Run!\n",
            "Target   : \tCours !\n",
            "Predicted: Kf!of!tvjt!qbt!ef!mb!qpsuf!ef!mb!qpsuf/ / / / / / «A !ftu!mf!gbjsf!A «A !A !ftu.df!A «A «A «A !ftu!mf!gbjsf!A «A !ftu!mf!gbjsf!A «A !A !ftu.df!A «A «A «A !ftu!mf!gbjsf!A «A !ftu!mf!gbjsf!A «A !A !ftu.df!A «A «A «A !ftu!mf!gbjsf!A «A !ftu!mf!gbjsf!A «A !A !ftu.df!A «A «A «A !ftu!mf!gbjsf!A «A !ftu!mf!gbjsf!A «A !A !ftu.df!A «A «A «A !ftu!mf!gbjsf!A «A\n",
            "BLEU     : 0.0064\n",
            "---\n",
            "Input    : Run!\n",
            "Target   : \tFuyez !\n",
            "Predicted: Kf!of!tvjt!qbt!ef!mb!qpsuf!ef!mb!qpsuf/ / / / / / «A !ftu!mf!gbjsf!A «A !A !ftu.df!A «A «A «A !ftu!mf!gbjsf!A «A !ftu!mf!gbjsf!A «A !A !ftu.df!A «A «A «A !ftu!mf!gbjsf!A «A !ftu!mf!gbjsf!A «A !A !ftu.df!A «A «A «A !ftu!mf!gbjsf!A «A !ftu!mf!gbjsf!A «A !A !ftu.df!A «A «A «A !ftu!mf!gbjsf!A «A !ftu!mf!gbjsf!A «A !A !ftu.df!A «A «A «A !ftu!mf!gbjsf!A «A\n",
            "BLEU     : 0.0057\n",
            "---\n",
            "Input    : Run!\n",
            "Target   : \tFuyons !\n",
            "Predicted: Kf!of!tvjt!qbt!ef!mb!qpsuf!ef!mb!qpsuf/ / / / / / «A !ftu!mf!gbjsf!A «A !A !ftu.df!A «A «A «A !ftu!mf!gbjsf!A «A !ftu!mf!gbjsf!A «A !A !ftu.df!A «A «A «A !ftu!mf!gbjsf!A «A !ftu!mf!gbjsf!A «A !A !ftu.df!A «A «A «A !ftu!mf!gbjsf!A «A !ftu!mf!gbjsf!A «A !A !ftu.df!A «A «A «A !ftu!mf!gbjsf!A «A !ftu!mf!gbjsf!A «A !A !ftu.df!A «A «A «A !ftu!mf!gbjsf!A «A\n",
            "BLEU     : 0.0064\n",
            "---\n",
            "Input    : Run.\n",
            "Target   : \tCours !\n",
            "Predicted: Kf!of!tvjt!qbt!ef!mb!qpsuf!ef!mb!qpsuf/ / / / / / «A !ftu!mf!gbjsf!A «A !A !ftu.df!A «A «A «A !ftu!mf!gbjsf!A «A !ftu!mf!gbjsf!A «A !A !ftu.df!A «A «A «A !ftu!mf!gbjsf!A «A !ftu!mf!gbjsf!A «A !A !ftu.df!A «A «A «A !ftu!mf!gbjsf!A «A !ftu!mf!gbjsf!A «A !A !ftu.df!A «A «A «A !ftu!mf!gbjsf!A «A !ftu!mf!gbjsf!A «A !A !ftu.df!A «A «A «A !ftu!mf!gbjsf!A «A\n",
            "BLEU     : 0.0000\n",
            "---\n",
            "Input    : Run.\n",
            "Target   : \tCourez !\n",
            "Predicted: Kf!of!tvjt!qbt!ef!mb!qpsuf!ef!mb!qpsuf/ / / / / / «A !ftu!mf!gbjsf!A «A !A !ftu.df!A «A «A «A !ftu!mf!gbjsf!A «A !ftu!mf!gbjsf!A «A !A !ftu.df!A «A «A «A !ftu!mf!gbjsf!A «A !ftu!mf!gbjsf!A «A !A !ftu.df!A «A «A «A !ftu!mf!gbjsf!A «A !ftu!mf!gbjsf!A «A !A !ftu.df!A «A «A «A !ftu!mf!gbjsf!A «A !ftu!mf!gbjsf!A «A !A !ftu.df!A «A «A «A !ftu!mf!gbjsf!A «A\n",
            "BLEU     : 0.0000\n",
            "---\n",
            "Input    : Run.\n",
            "Target   : \tPrenez vos jambes à vos cous !\n",
            "Predicted: Kf!of!tvjt!qbt!ef!mb!qpsuf!ef!mb!qpsuf/ / / / / / «A !ftu!mf!gbjsf!A «A !A !ftu.df!A «A «A «A !ftu!mf!gbjsf!A «A !ftu!mf!gbjsf!A «A !A !ftu.df!A «A «A «A !ftu!mf!gbjsf!A «A !ftu!mf!gbjsf!A «A !A !ftu.df!A «A «A «A !ftu!mf!gbjsf!A «A !ftu!mf!gbjsf!A «A !A !ftu.df!A «A «A «A !ftu!mf!gbjsf!A «A !ftu!mf!gbjsf!A «A !A !ftu.df!A «A «A «A !ftu!mf!gbjsf!A «A\n",
            "BLEU     : 0.0175\n",
            "---\n",
            "Input    : Run.\n",
            "Target   : \tFile !\n",
            "Predicted: Kf!of!tvjt!qbt!ef!mb!qpsuf!ef!mb!qpsuf/ / / / / / «A !ftu!mf!gbjsf!A «A !A !ftu.df!A «A «A «A !ftu!mf!gbjsf!A «A !ftu!mf!gbjsf!A «A !A !ftu.df!A «A «A «A !ftu!mf!gbjsf!A «A !ftu!mf!gbjsf!A «A !A !ftu.df!A «A «A «A !ftu!mf!gbjsf!A «A !ftu!mf!gbjsf!A «A !A !ftu.df!A «A «A «A !ftu!mf!gbjsf!A «A !ftu!mf!gbjsf!A «A !A !ftu.df!A «A «A «A !ftu!mf!gbjsf!A «A\n",
            "BLEU     : 0.0049\n",
            "---\n",
            "Input    : Run.\n",
            "Target   : \tFilez !\n",
            "Predicted: Kf!of!tvjt!qbt!ef!mb!qpsuf!ef!mb!qpsuf/ / / / / / «A !ftu!mf!gbjsf!A «A !A !ftu.df!A «A «A «A !ftu!mf!gbjsf!A «A !ftu!mf!gbjsf!A «A !A !ftu.df!A «A «A «A !ftu!mf!gbjsf!A «A !ftu!mf!gbjsf!A «A !A !ftu.df!A «A «A «A !ftu!mf!gbjsf!A «A !ftu!mf!gbjsf!A «A !A !ftu.df!A «A «A «A !ftu!mf!gbjsf!A «A !ftu!mf!gbjsf!A «A !A !ftu.df!A «A «A «A !ftu!mf!gbjsf!A «A\n",
            "BLEU     : 0.0049\n",
            "---\n",
            "Input    : Run.\n",
            "Target   : \tCours !\n",
            "Predicted: Kf!of!tvjt!qbt!ef!mb!qpsuf!ef!mb!qpsuf/ / / / / / «A !ftu!mf!gbjsf!A «A !A !ftu.df!A «A «A «A !ftu!mf!gbjsf!A «A !ftu!mf!gbjsf!A «A !A !ftu.df!A «A «A «A !ftu!mf!gbjsf!A «A !ftu!mf!gbjsf!A «A !A !ftu.df!A «A «A «A !ftu!mf!gbjsf!A «A !ftu!mf!gbjsf!A «A !A !ftu.df!A «A «A «A !ftu!mf!gbjsf!A «A !ftu!mf!gbjsf!A «A !A !ftu.df!A «A «A «A !ftu!mf!gbjsf!A «A\n",
            "BLEU     : 0.0064\n",
            "---\n",
            "Input    : Run.\n",
            "Target   : \tFuyez !\n",
            "Predicted: Kf!of!tvjt!qbt!ef!mb!qpsuf!ef!mb!qpsuf/ / / / / / «A !ftu!mf!gbjsf!A «A !A !ftu.df!A «A «A «A !ftu!mf!gbjsf!A «A !ftu!mf!gbjsf!A «A !A !ftu.df!A «A «A «A !ftu!mf!gbjsf!A «A !ftu!mf!gbjsf!A «A !A !ftu.df!A «A «A «A !ftu!mf!gbjsf!A «A !ftu!mf!gbjsf!A «A !A !ftu.df!A «A «A «A !ftu!mf!gbjsf!A «A !ftu!mf!gbjsf!A «A !A !ftu.df!A «A «A «A !ftu!mf!gbjsf!A «A\n",
            "BLEU     : 0.0057\n",
            "---\n",
            "Input    : Run.\n",
            "Target   : \tFuyons !\n",
            "Predicted: Kf!of!tvjt!qbt!ef!mb!qpsuf!ef!mb!qpsuf/ / / / / / «A !ftu!mf!gbjsf!A «A !A !ftu.df!A «A «A «A !ftu!mf!gbjsf!A «A !ftu!mf!gbjsf!A «A !A !ftu.df!A «A «A «A !ftu!mf!gbjsf!A «A !ftu!mf!gbjsf!A «A !A !ftu.df!A «A «A «A !ftu!mf!gbjsf!A «A !ftu!mf!gbjsf!A «A !A !ftu.df!A «A «A «A !ftu!mf!gbjsf!A «A !ftu!mf!gbjsf!A «A !A !ftu.df!A «A «A «A !ftu!mf!gbjsf!A «A\n",
            "BLEU     : 0.0064\n",
            "---\n",
            "Input    : Who?\n",
            "Target   : \tQui ?\n",
            "Predicted: Kf!of!tvjt!qbt!ef!mb!qpsuf!ef!mb!qpsuf/ / / / / / «A !ftu!mf!gbjsf!A «A !A !ftu.df!A «A «A «A !ftu!mf!gbjsf!A «A !ftu!mf!gbjsf!A «A !A !ftu.df!A «A «A «A !ftu!mf!gbjsf!A «A !ftu!mf!gbjsf!A «A !A !ftu.df!A «A «A «A !ftu!mf!gbjsf!A «A !ftu!mf!gbjsf!A «A !A !ftu.df!A «A «A «A !ftu!mf!gbjsf!A «A !ftu!mf!gbjsf!A «A !A !ftu.df!A «A «A «A !ftu!mf!gbjsf!A «A\n",
            "BLEU     : 0.0000\n",
            "---\n",
            "Input    : Wow!\n",
            "Target   : \tÇa alors !\n",
            "Predicted: Kf!of!tvjt!qbt!ef!mb!qpsuf!ef!mb!qpsuf/ / / / / / «A !ftu!mf!gbjsf!A «A !A !ftu.df!A «A «A «A !ftu!mf!gbjsf!A «A !ftu!mf!gbjsf!A «A !A !ftu.df!A «A «A «A !ftu!mf!gbjsf!A «A !ftu!mf!gbjsf!A «A !A !ftu.df!A «A «A «A !ftu!mf!gbjsf!A «A !ftu!mf!gbjsf!A «A !A !ftu.df!A «A «A «A !ftu!mf!gbjsf!A «A !ftu!mf!gbjsf!A «A !A !ftu.df!A «A «A «A !ftu!mf!gbjsf!A «A\n",
            "BLEU     : 0.0000\n",
            "---\n",
            "Input    : Wow!\n",
            "Target   : \tWaouh !\n",
            "Predicted: Kf!of!tvjt!qbt!ef!mb!qpsuf!ef!mb!qpsuf/ / / / / / «A !ftu!mf!gbjsf!A «A !A !ftu.df!A «A «A «A !ftu!mf!gbjsf!A «A !ftu!mf!gbjsf!A «A !A !ftu.df!A «A «A «A !ftu!mf!gbjsf!A «A !ftu!mf!gbjsf!A «A !A !ftu.df!A «A «A «A !ftu!mf!gbjsf!A «A !ftu!mf!gbjsf!A «A !A !ftu.df!A «A «A «A !ftu!mf!gbjsf!A «A !ftu!mf!gbjsf!A «A !A !ftu.df!A «A «A «A !ftu!mf!gbjsf!A «A\n",
            "BLEU     : 0.0000\n",
            "---\n",
            "Input    : Wow!\n",
            "Target   : \tWah !\n",
            "Predicted: Kf!of!tvjt!qbt!ef!mb!qpsuf!ef!mb!qpsuf/ / / / / / «A !ftu!mf!gbjsf!A «A !A !ftu.df!A «A «A «A !ftu!mf!gbjsf!A «A !ftu!mf!gbjsf!A «A !A !ftu.df!A «A «A «A !ftu!mf!gbjsf!A «A !ftu!mf!gbjsf!A «A !A !ftu.df!A «A «A «A !ftu!mf!gbjsf!A «A !ftu!mf!gbjsf!A «A !A !ftu.df!A «A «A «A !ftu!mf!gbjsf!A «A !ftu!mf!gbjsf!A «A !A !ftu.df!A «A «A «A !ftu!mf!gbjsf!A «A\n",
            "BLEU     : 0.0000\n",
            "---\n",
            "Input    : Duck!\n",
            "Target   : \tÀ terre !\n",
            "Predicted: Kf!of!tvjt!qbt!ef!mb!qpsuf!ef!mb!qpsuf/ / / / / / «A !ftu!mf!gbjsf!A «A !A !ftu.df!A «A «A «A !ftu!mf!gbjsf!A «A !ftu!mf!gbjsf!A «A !A !ftu.df!A «A «A «A !ftu!mf!gbjsf!A «A !ftu!mf!gbjsf!A «A !A !ftu.df!A «A «A «A !ftu!mf!gbjsf!A «A !ftu!mf!gbjsf!A «A !A !ftu.df!A «A «A «A !ftu!mf!gbjsf!A «A !ftu!mf!gbjsf!A «A !A !ftu.df!A «A «A «A !ftu!mf!gbjsf!A «A\n",
            "BLEU     : 0.0000\n",
            "---\n",
            "Input    : Duck!\n",
            "Target   : \tBaisse-toi !\n",
            "Predicted: Kf!of!tvjt!qbt!ef!mb!qpsuf!ef!mb!qpsuf/ / / / / / «A !ftu!mf!gbjsf!A «A !A !ftu.df!A «A «A «A !ftu!mf!gbjsf!A «A !ftu!mf!gbjsf!A «A !A !ftu.df!A «A «A «A !ftu!mf!gbjsf!A «A !ftu!mf!gbjsf!A «A !A !ftu.df!A «A «A «A !ftu!mf!gbjsf!A «A !ftu!mf!gbjsf!A «A !A !ftu.df!A «A «A «A !ftu!mf!gbjsf!A «A !ftu!mf!gbjsf!A «A !A !ftu.df!A «A «A «A !ftu!mf!gbjsf!A «A\n",
            "BLEU     : 0.0000\n",
            "---\n",
            "Input    : Duck!\n",
            "Target   : \tBaissez-vous !\n",
            "Predicted: Kf!of!tvjt!qbt!ef!mb!qpsuf!ef!mb!qpsuf/ / / / / / «A !ftu!mf!gbjsf!A «A !A !ftu.df!A «A «A «A !ftu!mf!gbjsf!A «A !ftu!mf!gbjsf!A «A !A !ftu.df!A «A «A «A !ftu!mf!gbjsf!A «A !ftu!mf!gbjsf!A «A !A !ftu.df!A «A «A «A !ftu!mf!gbjsf!A «A !ftu!mf!gbjsf!A «A !A !ftu.df!A «A «A «A !ftu!mf!gbjsf!A «A !ftu!mf!gbjsf!A «A !A !ftu.df!A «A «A «A !ftu!mf!gbjsf!A «A\n",
            "BLEU     : 0.0000\n",
            "---\n",
            "Input    : Fire!\n",
            "Target   : \tAu feu !\n",
            "Predicted: Kf!of!tvjt!qbt!ef!mb!qpsuf!ef!mb!qpsuf/ / / / / / «A !ftu!mf!gbjsf!A «A !A !ftu.df!A «A «A «A !ftu!mf!gbjsf!A «A !ftu!mf!gbjsf!A «A !A !ftu.df!A «A «A «A !ftu!mf!gbjsf!A «A !ftu!mf!gbjsf!A «A !A !ftu.df!A «A «A «A !ftu!mf!gbjsf!A «A !ftu!mf!gbjsf!A «A !A !ftu.df!A «A «A «A !ftu!mf!gbjsf!A «A !ftu!mf!gbjsf!A «A !A !ftu.df!A «A «A «A !ftu!mf!gbjsf!A «A\n",
            "BLEU     : 0.0080\n",
            "---\n",
            "Input    : Help!\n",
            "Target   : \tÀ l'aide !\n",
            "Predicted: Kf!of!tvjt!qbt!ef!mb!qpsuf!ef!mb!qpsuf/ / / / / / «A !ftu!mf!gbjsf!A «A !A !ftu.df!A «A «A «A !ftu!mf!gbjsf!A «A !ftu!mf!gbjsf!A «A !A !ftu.df!A «A «A «A !ftu!mf!gbjsf!A «A !ftu!mf!gbjsf!A «A !A !ftu.df!A «A «A «A !ftu!mf!gbjsf!A «A !ftu!mf!gbjsf!A «A !A !ftu.df!A «A «A «A !ftu!mf!gbjsf!A «A !ftu!mf!gbjsf!A «A !A !ftu.df!A «A «A «A !ftu!mf!gbjsf!A «A\n",
            "BLEU     : 0.0064\n",
            "---\n",
            "Input    : Hide.\n",
            "Target   : \tCache-toi.\n",
            "Predicted: Kf!of!tvjt!qbt!ef!mb!qpsuf!ef!mb!qpsuf/ / / / / / «A !ftu!mf!gbjsf!A «A !A !ftu.df!A «A «A «A !ftu!mf!gbjsf!A «A !ftu!mf!gbjsf!A «A !A !ftu.df!A «A «A «A !ftu!mf!gbjsf!A «A !ftu!mf!gbjsf!A «A !A !ftu.df!A «A «A «A !ftu!mf!gbjsf!A «A !ftu!mf!gbjsf!A «A !A !ftu.df!A «A «A «A !ftu!mf!gbjsf!A «A !ftu!mf!gbjsf!A «A !A !ftu.df!A «A «A «A !ftu!mf!gbjsf!A «A\n",
            "BLEU     : 0.0000\n",
            "---\n"
          ]
        },
        {
          "output_type": "error",
          "ename": "KeyboardInterrupt",
          "evalue": "",
          "traceback": [
            "\u001b[0;31m---------------------------------------------------------------------------\u001b[0m",
            "\u001b[0;31mKeyboardInterrupt\u001b[0m                         Traceback (most recent call last)",
            "\u001b[0;32m<ipython-input-33-b6e5ad748190>\u001b[0m in \u001b[0;36m<cell line: 0>\u001b[0;34m()\u001b[0m\n\u001b[1;32m     50\u001b[0m \u001b[0;34m\u001b[0m\u001b[0m\n\u001b[1;32m     51\u001b[0m \u001b[0;31m# Run the evaluation on N samples\u001b[0m\u001b[0;34m\u001b[0m\u001b[0;34m\u001b[0m\u001b[0m\n\u001b[0;32m---> 52\u001b[0;31m \u001b[0mevaluate_bleu\u001b[0m\u001b[0;34m(\u001b[0m\u001b[0mn\u001b[0m\u001b[0;34m=\u001b[0m\u001b[0;36m50\u001b[0m\u001b[0;34m)\u001b[0m\u001b[0;34m\u001b[0m\u001b[0;34m\u001b[0m\u001b[0m\n\u001b[0m",
            "\u001b[0;32m<ipython-input-33-b6e5ad748190>\u001b[0m in \u001b[0;36mevaluate_bleu\u001b[0;34m(n)\u001b[0m\n\u001b[1;32m     32\u001b[0m     \u001b[0;32mfor\u001b[0m \u001b[0mi\u001b[0m \u001b[0;32min\u001b[0m \u001b[0mrange\u001b[0m\u001b[0;34m(\u001b[0m\u001b[0mnum_samples\u001b[0m\u001b[0;34m)\u001b[0m\u001b[0;34m:\u001b[0m\u001b[0;34m\u001b[0m\u001b[0;34m\u001b[0m\u001b[0m\n\u001b[1;32m     33\u001b[0m         \u001b[0minput_seq\u001b[0m \u001b[0;34m=\u001b[0m \u001b[0mencoder_input_data\u001b[0m\u001b[0;34m[\u001b[0m\u001b[0mi\u001b[0m\u001b[0;34m:\u001b[0m\u001b[0mi\u001b[0m\u001b[0;34m+\u001b[0m\u001b[0;36m1\u001b[0m\u001b[0;34m]\u001b[0m\u001b[0;34m\u001b[0m\u001b[0;34m\u001b[0m\u001b[0m\n\u001b[0;32m---> 34\u001b[0;31m         \u001b[0mdecoded_sentence\u001b[0m \u001b[0;34m=\u001b[0m \u001b[0mdecode_sequence\u001b[0m\u001b[0;34m(\u001b[0m\u001b[0minput_seq\u001b[0m\u001b[0;34m)\u001b[0m\u001b[0;34m\u001b[0m\u001b[0;34m\u001b[0m\u001b[0m\n\u001b[0m\u001b[1;32m     35\u001b[0m \u001b[0;34m\u001b[0m\u001b[0m\n\u001b[1;32m     36\u001b[0m         \u001b[0mreference\u001b[0m \u001b[0;34m=\u001b[0m \u001b[0;34m[\u001b[0m\u001b[0mlist\u001b[0m\u001b[0;34m(\u001b[0m\u001b[0mtarget_texts\u001b[0m\u001b[0;34m[\u001b[0m\u001b[0mi\u001b[0m\u001b[0;34m]\u001b[0m\u001b[0;34m[\u001b[0m\u001b[0;36m1\u001b[0m\u001b[0;34m:\u001b[0m\u001b[0;34m-\u001b[0m\u001b[0;36m1\u001b[0m\u001b[0;34m]\u001b[0m\u001b[0;34m)\u001b[0m\u001b[0;34m]\u001b[0m  \u001b[0;31m# Remove \\t and \\n\u001b[0m\u001b[0;34m\u001b[0m\u001b[0;34m\u001b[0m\u001b[0m\n",
            "\u001b[0;32m<ipython-input-33-b6e5ad748190>\u001b[0m in \u001b[0;36mdecode_sequence\u001b[0;34m(input_seq)\u001b[0m\n\u001b[1;32m     11\u001b[0m     \u001b[0mdecoded_sentence\u001b[0m \u001b[0;34m=\u001b[0m \u001b[0;34m''\u001b[0m\u001b[0;34m\u001b[0m\u001b[0;34m\u001b[0m\u001b[0m\n\u001b[1;32m     12\u001b[0m     \u001b[0;32mwhile\u001b[0m \u001b[0;32mnot\u001b[0m \u001b[0mstop_condition\u001b[0m\u001b[0;34m:\u001b[0m\u001b[0;34m\u001b[0m\u001b[0;34m\u001b[0m\u001b[0m\n\u001b[0;32m---> 13\u001b[0;31m         \u001b[0moutput_tokens\u001b[0m\u001b[0;34m,\u001b[0m \u001b[0mh\u001b[0m\u001b[0;34m,\u001b[0m \u001b[0mc\u001b[0m \u001b[0;34m=\u001b[0m \u001b[0mdecoder_model\u001b[0m\u001b[0;34m.\u001b[0m\u001b[0mpredict\u001b[0m\u001b[0;34m(\u001b[0m\u001b[0;34m[\u001b[0m\u001b[0mtarget_seq\u001b[0m\u001b[0;34m]\u001b[0m \u001b[0;34m+\u001b[0m \u001b[0mstates_value\u001b[0m\u001b[0;34m,\u001b[0m \u001b[0mverbose\u001b[0m\u001b[0;34m=\u001b[0m\u001b[0;36m0\u001b[0m\u001b[0;34m)\u001b[0m\u001b[0;34m\u001b[0m\u001b[0;34m\u001b[0m\u001b[0m\n\u001b[0m\u001b[1;32m     14\u001b[0m \u001b[0;34m\u001b[0m\u001b[0m\n\u001b[1;32m     15\u001b[0m         \u001b[0msampled_token_index\u001b[0m \u001b[0;34m=\u001b[0m \u001b[0mnp\u001b[0m\u001b[0;34m.\u001b[0m\u001b[0margmax\u001b[0m\u001b[0;34m(\u001b[0m\u001b[0moutput_tokens\u001b[0m\u001b[0;34m[\u001b[0m\u001b[0;36m0\u001b[0m\u001b[0;34m,\u001b[0m \u001b[0;34m-\u001b[0m\u001b[0;36m1\u001b[0m\u001b[0;34m,\u001b[0m \u001b[0;34m:\u001b[0m\u001b[0;34m]\u001b[0m\u001b[0;34m)\u001b[0m\u001b[0;34m\u001b[0m\u001b[0;34m\u001b[0m\u001b[0m\n",
            "\u001b[0;32m/usr/local/lib/python3.11/dist-packages/keras/src/utils/traceback_utils.py\u001b[0m in \u001b[0;36merror_handler\u001b[0;34m(*args, **kwargs)\u001b[0m\n\u001b[1;32m    115\u001b[0m         \u001b[0mfiltered_tb\u001b[0m \u001b[0;34m=\u001b[0m \u001b[0;32mNone\u001b[0m\u001b[0;34m\u001b[0m\u001b[0;34m\u001b[0m\u001b[0m\n\u001b[1;32m    116\u001b[0m         \u001b[0;32mtry\u001b[0m\u001b[0;34m:\u001b[0m\u001b[0;34m\u001b[0m\u001b[0;34m\u001b[0m\u001b[0m\n\u001b[0;32m--> 117\u001b[0;31m             \u001b[0;32mreturn\u001b[0m \u001b[0mfn\u001b[0m\u001b[0;34m(\u001b[0m\u001b[0;34m*\u001b[0m\u001b[0margs\u001b[0m\u001b[0;34m,\u001b[0m \u001b[0;34m**\u001b[0m\u001b[0mkwargs\u001b[0m\u001b[0;34m)\u001b[0m\u001b[0;34m\u001b[0m\u001b[0;34m\u001b[0m\u001b[0m\n\u001b[0m\u001b[1;32m    118\u001b[0m         \u001b[0;32mexcept\u001b[0m \u001b[0mException\u001b[0m \u001b[0;32mas\u001b[0m \u001b[0me\u001b[0m\u001b[0;34m:\u001b[0m\u001b[0;34m\u001b[0m\u001b[0;34m\u001b[0m\u001b[0m\n\u001b[1;32m    119\u001b[0m             \u001b[0mfiltered_tb\u001b[0m \u001b[0;34m=\u001b[0m \u001b[0m_process_traceback_frames\u001b[0m\u001b[0;34m(\u001b[0m\u001b[0me\u001b[0m\u001b[0;34m.\u001b[0m\u001b[0m__traceback__\u001b[0m\u001b[0;34m)\u001b[0m\u001b[0;34m\u001b[0m\u001b[0;34m\u001b[0m\u001b[0m\n",
            "\u001b[0;32m/usr/local/lib/python3.11/dist-packages/keras/src/backend/tensorflow/trainer.py\u001b[0m in \u001b[0;36mpredict\u001b[0;34m(self, x, batch_size, verbose, steps, callbacks)\u001b[0m\n\u001b[1;32m    557\u001b[0m         \u001b[0moutputs\u001b[0m \u001b[0;34m=\u001b[0m \u001b[0;32mNone\u001b[0m\u001b[0;34m\u001b[0m\u001b[0;34m\u001b[0m\u001b[0m\n\u001b[1;32m    558\u001b[0m         \u001b[0;32mwith\u001b[0m \u001b[0mepoch_iterator\u001b[0m\u001b[0;34m.\u001b[0m\u001b[0mcatch_stop_iteration\u001b[0m\u001b[0;34m(\u001b[0m\u001b[0;34m)\u001b[0m\u001b[0;34m:\u001b[0m\u001b[0;34m\u001b[0m\u001b[0;34m\u001b[0m\u001b[0m\n\u001b[0;32m--> 559\u001b[0;31m             \u001b[0;32mfor\u001b[0m \u001b[0mstep\u001b[0m\u001b[0;34m,\u001b[0m \u001b[0miterator\u001b[0m \u001b[0;32min\u001b[0m \u001b[0mepoch_iterator\u001b[0m\u001b[0;34m:\u001b[0m\u001b[0;34m\u001b[0m\u001b[0;34m\u001b[0m\u001b[0m\n\u001b[0m\u001b[1;32m    560\u001b[0m                 \u001b[0mcallbacks\u001b[0m\u001b[0;34m.\u001b[0m\u001b[0mon_predict_batch_begin\u001b[0m\u001b[0;34m(\u001b[0m\u001b[0mstep\u001b[0m\u001b[0;34m)\u001b[0m\u001b[0;34m\u001b[0m\u001b[0;34m\u001b[0m\u001b[0m\n\u001b[1;32m    561\u001b[0m                 \u001b[0mdata\u001b[0m \u001b[0;34m=\u001b[0m \u001b[0mget_data\u001b[0m\u001b[0;34m(\u001b[0m\u001b[0miterator\u001b[0m\u001b[0;34m)\u001b[0m\u001b[0;34m\u001b[0m\u001b[0;34m\u001b[0m\u001b[0m\n",
            "\u001b[0;32m/usr/local/lib/python3.11/dist-packages/keras/src/backend/tensorflow/trainer.py\u001b[0m in \u001b[0;36m__next__\u001b[0;34m(self)\u001b[0m\n\u001b[1;32m    734\u001b[0m \u001b[0;34m\u001b[0m\u001b[0m\n\u001b[1;32m    735\u001b[0m     \u001b[0;32mdef\u001b[0m \u001b[0m__next__\u001b[0m\u001b[0;34m(\u001b[0m\u001b[0mself\u001b[0m\u001b[0;34m)\u001b[0m\u001b[0;34m:\u001b[0m\u001b[0;34m\u001b[0m\u001b[0;34m\u001b[0m\u001b[0m\n\u001b[0;32m--> 736\u001b[0;31m         \u001b[0;32mreturn\u001b[0m \u001b[0mnext\u001b[0m\u001b[0;34m(\u001b[0m\u001b[0mself\u001b[0m\u001b[0;34m.\u001b[0m\u001b[0m_epoch_iterator\u001b[0m\u001b[0;34m)\u001b[0m\u001b[0;34m\u001b[0m\u001b[0;34m\u001b[0m\u001b[0m\n\u001b[0m\u001b[1;32m    737\u001b[0m \u001b[0;34m\u001b[0m\u001b[0m\n\u001b[1;32m    738\u001b[0m     \u001b[0;34m@\u001b[0m\u001b[0mcontextlib\u001b[0m\u001b[0;34m.\u001b[0m\u001b[0mcontextmanager\u001b[0m\u001b[0;34m\u001b[0m\u001b[0;34m\u001b[0m\u001b[0m\n",
            "\u001b[0;32m/usr/local/lib/python3.11/dist-packages/keras/src/trainers/epoch_iterator.py\u001b[0m in \u001b[0;36m_enumerate_iterator\u001b[0;34m(self)\u001b[0m\n\u001b[1;32m    110\u001b[0m                 \u001b[0;32myield\u001b[0m \u001b[0mstep\u001b[0m\u001b[0;34m,\u001b[0m \u001b[0mself\u001b[0m\u001b[0;34m.\u001b[0m\u001b[0m_current_iterator\u001b[0m\u001b[0;34m\u001b[0m\u001b[0;34m\u001b[0m\u001b[0m\n\u001b[1;32m    111\u001b[0m             \u001b[0;32mif\u001b[0m \u001b[0mself\u001b[0m\u001b[0;34m.\u001b[0m\u001b[0m_num_batches\u001b[0m \u001b[0;32mand\u001b[0m \u001b[0mself\u001b[0m\u001b[0;34m.\u001b[0m\u001b[0m_steps_seen\u001b[0m \u001b[0;34m>=\u001b[0m \u001b[0mself\u001b[0m\u001b[0;34m.\u001b[0m\u001b[0m_num_batches\u001b[0m\u001b[0;34m:\u001b[0m\u001b[0;34m\u001b[0m\u001b[0;34m\u001b[0m\u001b[0m\n\u001b[0;32m--> 112\u001b[0;31m                 \u001b[0mself\u001b[0m\u001b[0;34m.\u001b[0m\u001b[0m_current_iterator\u001b[0m \u001b[0;34m=\u001b[0m \u001b[0miter\u001b[0m\u001b[0;34m(\u001b[0m\u001b[0mself\u001b[0m\u001b[0;34m.\u001b[0m\u001b[0m_get_iterator\u001b[0m\u001b[0;34m(\u001b[0m\u001b[0;34m)\u001b[0m\u001b[0;34m)\u001b[0m\u001b[0;34m\u001b[0m\u001b[0;34m\u001b[0m\u001b[0m\n\u001b[0m\u001b[1;32m    113\u001b[0m                 \u001b[0mself\u001b[0m\u001b[0;34m.\u001b[0m\u001b[0m_steps_seen\u001b[0m \u001b[0;34m=\u001b[0m \u001b[0;36m0\u001b[0m\u001b[0;34m\u001b[0m\u001b[0;34m\u001b[0m\u001b[0m\n\u001b[1;32m    114\u001b[0m         \u001b[0;32melse\u001b[0m\u001b[0;34m:\u001b[0m\u001b[0;34m\u001b[0m\u001b[0;34m\u001b[0m\u001b[0m\n",
            "\u001b[0;32m/usr/local/lib/python3.11/dist-packages/tensorflow/python/data/ops/dataset_ops.py\u001b[0m in \u001b[0;36m__iter__\u001b[0;34m(self)\u001b[0m\n\u001b[1;32m    499\u001b[0m     \u001b[0;32mif\u001b[0m \u001b[0mcontext\u001b[0m\u001b[0;34m.\u001b[0m\u001b[0mexecuting_eagerly\u001b[0m\u001b[0;34m(\u001b[0m\u001b[0;34m)\u001b[0m \u001b[0;32mor\u001b[0m \u001b[0mops\u001b[0m\u001b[0;34m.\u001b[0m\u001b[0minside_function\u001b[0m\u001b[0;34m(\u001b[0m\u001b[0;34m)\u001b[0m\u001b[0;34m:\u001b[0m\u001b[0;34m\u001b[0m\u001b[0;34m\u001b[0m\u001b[0m\n\u001b[1;32m    500\u001b[0m       \u001b[0;32mwith\u001b[0m \u001b[0mops\u001b[0m\u001b[0;34m.\u001b[0m\u001b[0mcolocate_with\u001b[0m\u001b[0;34m(\u001b[0m\u001b[0mself\u001b[0m\u001b[0;34m.\u001b[0m\u001b[0m_variant_tensor\u001b[0m\u001b[0;34m)\u001b[0m\u001b[0;34m:\u001b[0m\u001b[0;34m\u001b[0m\u001b[0;34m\u001b[0m\u001b[0m\n\u001b[0;32m--> 501\u001b[0;31m         \u001b[0;32mreturn\u001b[0m \u001b[0miterator_ops\u001b[0m\u001b[0;34m.\u001b[0m\u001b[0mOwnedIterator\u001b[0m\u001b[0;34m(\u001b[0m\u001b[0mself\u001b[0m\u001b[0;34m)\u001b[0m\u001b[0;34m\u001b[0m\u001b[0;34m\u001b[0m\u001b[0m\n\u001b[0m\u001b[1;32m    502\u001b[0m     \u001b[0;32melse\u001b[0m\u001b[0;34m:\u001b[0m\u001b[0;34m\u001b[0m\u001b[0;34m\u001b[0m\u001b[0m\n\u001b[1;32m    503\u001b[0m       raise RuntimeError(\"`tf.data.Dataset` only supports Python-style \"\n",
            "\u001b[0;32m/usr/local/lib/python3.11/dist-packages/tensorflow/python/data/ops/iterator_ops.py\u001b[0m in \u001b[0;36m__init__\u001b[0;34m(self, dataset, components, element_spec)\u001b[0m\n\u001b[1;32m    707\u001b[0m             \u001b[0;34m\"When `dataset` is provided, `element_spec` and `components` must \"\u001b[0m\u001b[0;34m\u001b[0m\u001b[0;34m\u001b[0m\u001b[0m\n\u001b[1;32m    708\u001b[0m             \"not be specified.\")\n\u001b[0;32m--> 709\u001b[0;31m       \u001b[0mself\u001b[0m\u001b[0;34m.\u001b[0m\u001b[0m_create_iterator\u001b[0m\u001b[0;34m(\u001b[0m\u001b[0mdataset\u001b[0m\u001b[0;34m)\u001b[0m\u001b[0;34m\u001b[0m\u001b[0;34m\u001b[0m\u001b[0m\n\u001b[0m\u001b[1;32m    710\u001b[0m \u001b[0;34m\u001b[0m\u001b[0m\n\u001b[1;32m    711\u001b[0m     \u001b[0mself\u001b[0m\u001b[0;34m.\u001b[0m\u001b[0m_get_next_call_count\u001b[0m \u001b[0;34m=\u001b[0m \u001b[0;36m0\u001b[0m\u001b[0;34m\u001b[0m\u001b[0;34m\u001b[0m\u001b[0m\n",
            "\u001b[0;32m/usr/local/lib/python3.11/dist-packages/tensorflow/python/data/ops/iterator_ops.py\u001b[0m in \u001b[0;36m_create_iterator\u001b[0;34m(self, dataset)\u001b[0m\n\u001b[1;32m    746\u001b[0m             self._flat_output_types)\n\u001b[1;32m    747\u001b[0m         \u001b[0mself\u001b[0m\u001b[0;34m.\u001b[0m\u001b[0m_iterator_resource\u001b[0m\u001b[0;34m.\u001b[0m\u001b[0mop\u001b[0m\u001b[0;34m.\u001b[0m\u001b[0mexperimental_set_type\u001b[0m\u001b[0;34m(\u001b[0m\u001b[0mfulltype\u001b[0m\u001b[0;34m)\u001b[0m\u001b[0;34m\u001b[0m\u001b[0;34m\u001b[0m\u001b[0m\n\u001b[0;32m--> 748\u001b[0;31m       \u001b[0mgen_dataset_ops\u001b[0m\u001b[0;34m.\u001b[0m\u001b[0mmake_iterator\u001b[0m\u001b[0;34m(\u001b[0m\u001b[0mds_variant\u001b[0m\u001b[0;34m,\u001b[0m \u001b[0mself\u001b[0m\u001b[0;34m.\u001b[0m\u001b[0m_iterator_resource\u001b[0m\u001b[0;34m)\u001b[0m\u001b[0;34m\u001b[0m\u001b[0;34m\u001b[0m\u001b[0m\n\u001b[0m\u001b[1;32m    749\u001b[0m \u001b[0;34m\u001b[0m\u001b[0m\n\u001b[1;32m    750\u001b[0m   \u001b[0;32mdef\u001b[0m \u001b[0m__iter__\u001b[0m\u001b[0;34m(\u001b[0m\u001b[0mself\u001b[0m\u001b[0;34m)\u001b[0m\u001b[0;34m:\u001b[0m\u001b[0;34m\u001b[0m\u001b[0;34m\u001b[0m\u001b[0m\n",
            "\u001b[0;32m/usr/local/lib/python3.11/dist-packages/tensorflow/python/ops/gen_dataset_ops.py\u001b[0m in \u001b[0;36mmake_iterator\u001b[0;34m(dataset, iterator, name)\u001b[0m\n\u001b[1;32m   3476\u001b[0m   \u001b[0;32mif\u001b[0m \u001b[0mtld\u001b[0m\u001b[0;34m.\u001b[0m\u001b[0mis_eager\u001b[0m\u001b[0;34m:\u001b[0m\u001b[0;34m\u001b[0m\u001b[0;34m\u001b[0m\u001b[0m\n\u001b[1;32m   3477\u001b[0m     \u001b[0;32mtry\u001b[0m\u001b[0;34m:\u001b[0m\u001b[0;34m\u001b[0m\u001b[0;34m\u001b[0m\u001b[0m\n\u001b[0;32m-> 3478\u001b[0;31m       _result = pywrap_tfe.TFE_Py_FastPathExecute(\n\u001b[0m\u001b[1;32m   3479\u001b[0m         _ctx, \"MakeIterator\", name, dataset, iterator)\n\u001b[1;32m   3480\u001b[0m       \u001b[0;32mreturn\u001b[0m \u001b[0m_result\u001b[0m\u001b[0;34m\u001b[0m\u001b[0;34m\u001b[0m\u001b[0m\n",
            "\u001b[0;31mKeyboardInterrupt\u001b[0m: "
          ]
        }
      ]
    }
  ],
  "metadata": {
    "language_info": {
      "name": "python"
    },
    "colab": {
      "provenance": [],
      "gpuType": "T4",
      "include_colab_link": true
    },
    "kernelspec": {
      "name": "python3",
      "display_name": "Python 3"
    },
    "accelerator": "GPU"
  },
  "nbformat": 4,
  "nbformat_minor": 5
}