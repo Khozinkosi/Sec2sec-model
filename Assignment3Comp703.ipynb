{
 "cells": [
  {
   "cell_type": "markdown",
   "id": "92f6671c",
   "metadata": {},
   "source": [
    "Linda Sekhoasha (222004139)\n",
    "Wandile Ngobese (222056013)\n",
    "Khonzinkosi Mkhize (219005273)\n",
    "Samukelo Mkhize (220009930)"
   ]
  },
  {
   "cell_type": "markdown",
   "id": "eaa88070",
   "metadata": {},
   "source": []
  }
 ],
 "metadata": {
  "language_info": {
   "name": "python"
  }
 },
 "nbformat": 4,
 "nbformat_minor": 5
}
